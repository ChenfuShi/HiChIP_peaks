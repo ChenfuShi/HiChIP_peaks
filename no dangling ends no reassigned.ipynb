{
 "cells": [
  {
   "cell_type": "code",
   "execution_count": 1,
   "metadata": {},
   "outputs": [],
   "source": [
    "import scipy\n",
    "import scipy.sparse\n",
    "import numpy\n",
    "import os\n",
    "import re\n",
    "import multiprocessing\n",
    "import subprocess\n",
    "import pickle\n",
    "import matplotlib.pyplot\n",
    "\n",
    "import time\n",
    "import statistics\n",
    "import sklearn\n",
    "import math"
   ]
  },
  {
   "cell_type": "code",
   "execution_count": 2,
   "metadata": {},
   "outputs": [],
   "source": [
    "CSR_mat_full = scipy.sparse.load_npz('./testdata/sparse_matrix_mumbach_without_dangling_non_reassigned_chr1.npz')"
   ]
  },
  {
   "cell_type": "code",
   "execution_count": 3,
   "metadata": {},
   "outputs": [],
   "source": [
    "#needed to load the variables\n",
    "with open(\"./testdata/variables.pi\",\"rb\") as picklefile:\n",
    "    frag_index,frag_prop,frag_amount,valid_chroms,chroms_offsets = pickle.load(picklefile)"
   ]
  },
  {
   "cell_type": "code",
   "execution_count": 4,
   "metadata": {},
   "outputs": [
    {
     "data": {
      "text/plain": [
       "1842362.0"
      ]
     },
     "execution_count": 4,
     "metadata": {},
     "output_type": "execute_result"
    }
   ],
   "source": [
    "RE_pairs=CSR_mat_full.diagonal()\n",
    "SC_pairs=CSR_mat_full.diagonal(k=1)\n",
    "sum(RE_pairs)"
   ]
  },
  {
   "cell_type": "code",
   "execution_count": 5,
   "metadata": {},
   "outputs": [],
   "source": [
    "%matplotlib qt\n",
    "fig, ax = matplotlib.pyplot.subplots()\n",
    "ax.plot(RE_pairs)\n",
    "ax.plot(SC_pairs)\n",
    "fig.show()"
   ]
  },
  {
   "cell_type": "code",
   "execution_count": 20,
   "metadata": {},
   "outputs": [],
   "source": [
    "#preparing data for distribution plots\n",
    "distribution = [[] for i in range(4000)]\n",
    "diagonal_off1 = CSR_mat_full.diagonal(k=1).tolist()+[0]\n",
    "diagonal_off1f = [0] + CSR_mat_full.diagonal(k=1).tolist() \n",
    "diagonal=CSR_mat_full.diagonal(k=0).tolist()\n",
    "diagonal = [sum(x) for x in zip(diagonal_off1, diagonal_off1f,diagonal)]\n",
    "lengths=[]\n",
    "for i in frag_prop:\n",
    "    lengths.append(i[3])\n",
    "       \n",
    "for i in range(len(lengths)):\n",
    "    try:\n",
    "        distribution[lengths[i]].append(diagonal[i])\n",
    "    except:\n",
    "        continue\n",
    "\n",
    "results = []        \n",
    "for i in distribution:\n",
    "    if i:\n",
    "        results.append(statistics.mean(i))\n",
    "    else:\n",
    "        results.append(1000)\n",
    "        \n",
    "for i in range(len(lengths)):\n",
    "    try:\n",
    "        if diagonal[i] != 0:\n",
    "            distribution[lengths[i]].append(diagonal[i])\n",
    "    except:\n",
    "        continue        \n",
    "\n",
    "results2 = []        \n",
    "for i in distribution:\n",
    "    if i:\n",
    "        results2.append(statistics.mean(i))\n",
    "    else:\n",
    "        results2.append(1000)     "
   ]
  },
  {
   "cell_type": "code",
   "execution_count": 21,
   "metadata": {},
   "outputs": [],
   "source": [
    "#plotting avarage reads vs length\n",
    "%matplotlib qt\n",
    "fig, ax = matplotlib.pyplot.subplots()\n",
    "ax.scatter(range(4000),results)\n",
    "ax.scatter(range(4000),results2)\n",
    "fig.show()"
   ]
  },
  {
   "cell_type": "code",
   "execution_count": 6,
   "metadata": {},
   "outputs": [],
   "source": [
    "def movingaverage (values, window):\n",
    "    weights = numpy.repeat(1.0, window)/window\n",
    "    sma = numpy.convolve(values, weights, 'same')\n",
    "    return sma\n",
    "def moving_integration (values, window):\n",
    "    weights = numpy.repeat(1.0, window)\n",
    "    sma = numpy.convolve(values, weights, 'same')\n",
    "    return sma"
   ]
  },
  {
   "cell_type": "code",
   "execution_count": null,
   "metadata": {},
   "outputs": [],
   "source": []
  },
  {
   "cell_type": "code",
   "execution_count": 17,
   "metadata": {},
   "outputs": [],
   "source": [
    "#preparing data for distribution plots\n",
    "distribution = [[] for i in range(6000)]\n",
    "diagonal=CSR_mat_full.diagonal(k=0).tolist()\n",
    "diagonal_off1 = CSR_mat_full.diagonal(k=1).tolist()+[0]\n",
    "diagonal_off1f = [0] + CSR_mat_full.diagonal(k=1).tolist() \n",
    "diagonal = [sum(x) for x in zip(diagonal_off1, diagonal_off1f,diagonal)]\n",
    "window=5\n",
    "diagonal = moving_integration(diagonal,window)\n",
    "lengths = []\n",
    "for i in frag_prop:\n",
    "    lengths.append(i[3])\n",
    "       \n",
    "lengths = moving_integration(lengths,window).tolist()\n",
    "lengths = list(map(int, lengths))\n",
    "for i in range(len(lengths)):\n",
    "    try:\n",
    "        distribution[lengths[i]].append(diagonal[i])\n",
    "    except:\n",
    "        continue\n",
    "\n",
    "results = []        \n",
    "for i in distribution:\n",
    "    if i:\n",
    "        results.append(statistics.mean(i))\n",
    "    else:\n",
    "        results.append(1000)\n",
    "        \n",
    "for i in range(len(lengths)):\n",
    "    try:\n",
    "        if diagonal[i] != 0:\n",
    "            distribution[lengths[i]].append(diagonal[i])\n",
    "    except:\n",
    "        continue        \n",
    "\n",
    "results2 = []        \n",
    "for i in distribution:\n",
    "    if i:\n",
    "        results2.append(statistics.mean(i))\n",
    "    else:\n",
    "        results2.append(1000)   "
   ]
  },
  {
   "cell_type": "code",
   "execution_count": 18,
   "metadata": {},
   "outputs": [],
   "source": [
    "#plotting avarage reads vs length\n",
    "%matplotlib qt\n",
    "fig, ax = matplotlib.pyplot.subplots()\n",
    "ax.scatter(range(6000),results)\n",
    "ax.scatter(range(6000),results2)\n",
    "fig.show()"
   ]
  },
  {
   "cell_type": "code",
   "execution_count": 7,
   "metadata": {},
   "outputs": [
    {
     "ename": "NameError",
     "evalue": "name 'diagonal' is not defined",
     "output_type": "error",
     "traceback": [
      "\u001b[1;31m---------------------------------------------------------------------------\u001b[0m",
      "\u001b[1;31mNameError\u001b[0m                                 Traceback (most recent call last)",
      "\u001b[1;32m<ipython-input-7-798bbdbfa572>\u001b[0m in \u001b[0;36m<module>\u001b[1;34m\u001b[0m\n\u001b[0;32m      1\u001b[0m \u001b[0mget_ipython\u001b[0m\u001b[1;33m(\u001b[0m\u001b[1;33m)\u001b[0m\u001b[1;33m.\u001b[0m\u001b[0mrun_line_magic\u001b[0m\u001b[1;33m(\u001b[0m\u001b[1;34m'matplotlib'\u001b[0m\u001b[1;33m,\u001b[0m \u001b[1;34m'qt'\u001b[0m\u001b[1;33m)\u001b[0m\u001b[1;33m\u001b[0m\u001b[1;33m\u001b[0m\u001b[0m\n\u001b[0;32m      2\u001b[0m \u001b[0mfig\u001b[0m\u001b[1;33m,\u001b[0m \u001b[0max\u001b[0m \u001b[1;33m=\u001b[0m \u001b[0mmatplotlib\u001b[0m\u001b[1;33m.\u001b[0m\u001b[0mpyplot\u001b[0m\u001b[1;33m.\u001b[0m\u001b[0msubplots\u001b[0m\u001b[1;33m(\u001b[0m\u001b[1;33m)\u001b[0m\u001b[1;33m\u001b[0m\u001b[1;33m\u001b[0m\u001b[0m\n\u001b[1;32m----> 3\u001b[1;33m \u001b[0mres\u001b[0m\u001b[1;33m=\u001b[0m \u001b[0mnumpy\u001b[0m\u001b[1;33m.\u001b[0m\u001b[0mpercentile\u001b[0m\u001b[1;33m(\u001b[0m\u001b[0mdiagonal\u001b[0m\u001b[1;33m,\u001b[0m\u001b[1;36m95\u001b[0m\u001b[1;33m)\u001b[0m\u001b[1;33m\u001b[0m\u001b[1;33m\u001b[0m\u001b[0m\n\u001b[0m\u001b[0;32m      4\u001b[0m \u001b[0max\u001b[0m\u001b[1;33m.\u001b[0m\u001b[0mplot\u001b[0m\u001b[1;33m(\u001b[0m\u001b[0mdiagonal\u001b[0m\u001b[1;33m)\u001b[0m\u001b[1;33m\u001b[0m\u001b[1;33m\u001b[0m\u001b[0m\n\u001b[0;32m      5\u001b[0m \u001b[0max\u001b[0m\u001b[1;33m.\u001b[0m\u001b[0maxhline\u001b[0m\u001b[1;33m(\u001b[0m\u001b[0mres\u001b[0m\u001b[1;33m)\u001b[0m\u001b[1;33m\u001b[0m\u001b[1;33m\u001b[0m\u001b[0m\n",
      "\u001b[1;31mNameError\u001b[0m: name 'diagonal' is not defined"
     ]
    }
   ],
   "source": [
    "%matplotlib qt\n",
    "fig, ax = matplotlib.pyplot.subplots()\n",
    "res= numpy.percentile(diagonal,95)\n",
    "ax.plot(diagonal)\n",
    "ax.axhline(res)\n",
    "ax.plot(CSR_mat_full.sum(axis=0).tolist()[0])\n",
    "fig.show()"
   ]
  },
  {
   "cell_type": "code",
   "execution_count": 23,
   "metadata": {},
   "outputs": [
    {
     "data": {
      "text/plain": [
       "[<matplotlib.lines.Line2D at 0x2882236d4a8>]"
      ]
     },
     "execution_count": 23,
     "metadata": {},
     "output_type": "execute_result"
    }
   ],
   "source": [
    "%matplotlib qt\n",
    "#dirt way to do the lorentz curve on the fragments\n",
    "fig = matplotlib.pyplot.figure()\n",
    "ax = fig.add_subplot(111)\n",
    "ax.plot(numpy.array(sorted(diagonal)).cumsum()/numpy.array(diagonal).sum())\n",
    "ax.plot(numpy.array(sorted(CSR_mat_full.sum(axis=0).tolist()[0])).cumsum()/CSR_mat_full.sum(),label=\"full\")"
   ]
  },
  {
   "cell_type": "code",
   "execution_count": 8,
   "metadata": {},
   "outputs": [],
   "source": [
    "diagonal=CSR_mat_full.diagonal(k=0).tolist()\n",
    "diagonal_off1 = CSR_mat_full.diagonal(k=1).tolist()+[0]\n",
    "diagonal_off1f = [0] + CSR_mat_full.diagonal(k=1).tolist() \n",
    "diagonal = [sum(x) for x in zip(diagonal_off1, diagonal_off1f,diagonal)]"
   ]
  },
  {
   "cell_type": "code",
   "execution_count": 4,
   "metadata": {},
   "outputs": [],
   "source": [
    "CSR_mat_full_withDE = scipy.sparse.load_npz('./testdata/sparse_matrix_mumbach_non_reassigned_chr1.npz')"
   ]
  },
  {
   "cell_type": "code",
   "execution_count": 9,
   "metadata": {},
   "outputs": [
    {
     "name": "stdout",
     "output_type": "stream",
     "text": [
      "25.0\n",
      "62.199282662461385\n"
     ]
    }
   ],
   "source": [
    "diagonal2=CSR_mat_full_withDE.diagonal(k=0).tolist()\n",
    "diagonal_off12 = CSR_mat_full_withDE.diagonal(k=1).tolist()+[0]\n",
    "diagonal_off1f2 = [0] + CSR_mat_full_withDE.diagonal(k=1).tolist() \n",
    "diagonal2 = [sum(x) for x in zip(diagonal_off12, diagonal_off1f2,diagonal2)]\n",
    "%matplotlib qt\n",
    "fig, ax = matplotlib.pyplot.subplots()\n",
    "res= numpy.median(moving_integration(diagonal2,5))\n",
    "ax.plot(moving_integration(diagonal2,5))\n",
    "res2= numpy.percentile(moving_integration(diagonal,5),97)\n",
    "ax.axhline(res)\n",
    "ax.axhline(40)\n",
    "print(res)\n",
    "print(numpy.mean(moving_integration(diagonal2,5)))\n",
    "#ax.axhline(res2)\n",
    "#ax.plot(moving_integration(diagonal,5))\n",
    "fig.show()"
   ]
  },
  {
   "cell_type": "code",
   "execution_count": 11,
   "metadata": {},
   "outputs": [],
   "source": [
    "ma_diagonal=movingaverage(diagonal,5)\n",
    "ma_diagonal2 = movingaverage(diagonal2,5)\n",
    "sortedlist = sorted(range(len(ma_diagonal)), key=ma_diagonal.__getitem__, reverse=True)"
   ]
  },
  {
   "cell_type": "code",
   "execution_count": 24,
   "metadata": {},
   "outputs": [
    {
     "data": {
      "application/vnd.jupyter.widget-view+json": {
       "model_id": "8c7f8b64073449c4ac114b11d944cf86",
       "version_major": 2,
       "version_minor": 0
      },
      "text/plain": [
       "interactive(children=(IntSlider(value=1, description='i', max=500), Output()), _dom_classes=('widget-interact'…"
      ]
     },
     "metadata": {},
     "output_type": "display_data"
    }
   ],
   "source": [
    "%matplotlib qt\n",
    "from ipywidgets import *\n",
    "fig = matplotlib.pyplot.figure()\n",
    "ax = fig.add_subplot(111)\n",
    "matplotlib.pyplot.ion()\n",
    "def interactplot(i):\n",
    "    ax.clear()\n",
    "    ax.plot(ma_diagonal2[sortedlist[i]-1500:sortedlist[i]+1500])\n",
    "    bait = movingaverage(CSR_mat_full_withDE[sortedlist[i]-8:sortedlist[i]+8,].toarray().sum(axis=0).tolist()[sortedlist[i]-1500:sortedlist[i]+1500],5)\n",
    "    ax.plot(bait)\n",
    "    ratio = []\n",
    "    for x, y in zip(bait, ma_diagonal[sortedlist[i]-1500:sortedlist[i]+1500]):\n",
    "        if y > 10:\n",
    "            ratio.append(x*100/(y+5))\n",
    "        else:\n",
    "            ratio.append(0)\n",
    "    ratio2 = []\n",
    "    for x, y in zip(bait, ma_diagonal2[sortedlist[i]-1500:sortedlist[i]+1500]):\n",
    "        if y > 10:\n",
    "            ratio2.append(x*100/(y+5))\n",
    "        else:\n",
    "            ratio2.append(-10)\n",
    "    #ax.plot(ratio)\n",
    "    #ax.plot(ratio2)\n",
    "    fig.canvas.draw()\n",
    "    print(sortedlist[i])\n",
    "    print(frag_prop[sortedlist[i]])\n",
    "    print(frag_prop[sortedlist[i]-1500])\n",
    "    print(frag_prop[sortedlist[i]+1500])\n",
    "    print(frag_prop[sortedlist[i]+1500][2]-frag_prop[sortedlist[i]-1500][1])\n",
    "interact(interactplot,i=widgets.IntSlider(min=0,max=500,step=1,value=1));\n",
    "\n",
    "#matplotlib.pyplot.plot(CSR_mat_full[index_max-5:index_max+5,].toarray().sum(axis=0).tolist()[index_max-200:index_max+200])"
   ]
  },
  {
   "cell_type": "code",
   "execution_count": 21,
   "metadata": {},
   "outputs": [
    {
     "data": {
      "application/vnd.jupyter.widget-view+json": {
       "model_id": "9b12df3f03cf469fb742607376bdc284",
       "version_major": 2,
       "version_minor": 0
      },
      "text/plain": [
       "interactive(children=(IntSlider(value=1, description='i', max=500), Output()), _dom_classes=('widget-interact'…"
      ]
     },
     "metadata": {},
     "output_type": "display_data"
    }
   ],
   "source": [
    "fig = matplotlib.pyplot.figure()\n",
    "ax = fig.add_subplot(111)\n",
    "matplotlib.pyplot.ion()\n",
    "def interactplot(i):\n",
    "    ax.clear()\n",
    "    ax.scatter(ma_diagonal2[sortedlist[i]-1500:sortedlist[i]+1500],movingaverage(CSR_mat_full_withDE[sortedlist[i]-8:sortedlist[i]+8,].toarray().sum(axis=0).tolist()[sortedlist[i]-1500:sortedlist[i]+1500],5),alpha=0.10)\n",
    "    fig.canvas.draw()\n",
    "interact(interactplot,i=widgets.IntSlider(min=0,max=500,step=1,value=1));"
   ]
  },
  {
   "cell_type": "code",
   "execution_count": 22,
   "metadata": {},
   "outputs": [
    {
     "data": {
      "application/vnd.jupyter.widget-view+json": {
       "model_id": "4272a23f14e9411bb5eec0efa689ee5e",
       "version_major": 2,
       "version_minor": 0
      },
      "text/plain": [
       "interactive(children=(IntSlider(value=1, description='i', max=500), Output()), _dom_classes=('widget-interact'…"
      ]
     },
     "metadata": {},
     "output_type": "display_data"
    }
   ],
   "source": [
    "fig = matplotlib.pyplot.figure()\n",
    "ax = fig.add_subplot(111)\n",
    "matplotlib.pyplot.ion()\n",
    "def interactplot(i):\n",
    "    ax.clear()\n",
    "    ax.scatter(ma_diagonal2[sortedlist[i]-1000:sortedlist[i]-100],movingaverage(CSR_mat_full_withDE[sortedlist[i]-8:sortedlist[i]+8,].toarray().sum(axis=0).tolist()[sortedlist[i]-1000:sortedlist[i]-100],5),alpha=0.10)\n",
    "    fig.canvas.draw()\n",
    "interact(interactplot,i=widgets.IntSlider(min=0,max=500,step=1,value=1));"
   ]
  },
  {
   "cell_type": "code",
   "execution_count": 14,
   "metadata": {},
   "outputs": [],
   "source": [
    "%matplotlib qt\n",
    "fig, ax = matplotlib.pyplot.subplots()\n",
    "ax.plot(diagonal)\n",
    "fig.show()"
   ]
  },
  {
   "cell_type": "code",
   "execution_count": 13,
   "metadata": {},
   "outputs": [],
   "source": [
    "lengths=[]\n",
    "distribution = [[] for i in range(6000)]\n",
    "for i in frag_prop:\n",
    "    lengths.append(i[3])\n",
    "       \n",
    "for i in range(len(lengths)):\n",
    "    try:\n",
    "        distribution[lengths[i]].append(diagonal[i])\n",
    "    except:\n",
    "        continue\n"
   ]
  },
  {
   "cell_type": "code",
   "execution_count": 14,
   "metadata": {},
   "outputs": [],
   "source": [
    "lengths= lengths[:584662]"
   ]
  },
  {
   "cell_type": "code",
   "execution_count": 17,
   "metadata": {},
   "outputs": [],
   "source": [
    "%matplotlib qt\n",
    "fig, ax = matplotlib.pyplot.subplots()\n",
    "ax.scatter(lengths,diagonal,alpha=0.01)\n",
    "fig.show()"
   ]
  },
  {
   "cell_type": "code",
   "execution_count": 16,
   "metadata": {},
   "outputs": [],
   "source": [
    "%matplotlib qt\n",
    "fig, ax = matplotlib.pyplot.subplots()\n",
    "ax.hist(lengths,range=(0,1000), bins = 1000)\n",
    "fig.show()"
   ]
  },
  {
   "cell_type": "code",
   "execution_count": 39,
   "metadata": {},
   "outputs": [],
   "source": []
  },
  {
   "cell_type": "code",
   "execution_count": 43,
   "metadata": {},
   "outputs": [],
   "source": []
  },
  {
   "cell_type": "code",
   "execution_count": 52,
   "metadata": {},
   "outputs": [],
   "source": []
  },
  {
   "cell_type": "code",
   "execution_count": null,
   "metadata": {
    "scrolled": true
   },
   "outputs": [],
   "source": []
  },
  {
   "cell_type": "code",
   "execution_count": 53,
   "metadata": {},
   "outputs": [
    {
     "ename": "ValueError",
     "evalue": "x must be strictly increasing",
     "output_type": "error",
     "traceback": [
      "\u001b[1;31m---------------------------------------------------------------------------\u001b[0m",
      "\u001b[1;31mValueError\u001b[0m                                Traceback (most recent call last)",
      "\u001b[1;32m<ipython-input-53-ca6afe604bfc>\u001b[0m in \u001b[0;36m<module>\u001b[1;34m()\u001b[0m\n\u001b[1;32m----> 1\u001b[1;33m \u001b[0mspl\u001b[0m \u001b[1;33m=\u001b[0m \u001b[0mUnivariateSpline\u001b[0m\u001b[1;33m(\u001b[0m\u001b[0mxvals\u001b[0m\u001b[1;33m,\u001b[0m\u001b[0myvals\u001b[0m\u001b[1;33m)\u001b[0m\u001b[1;33m\u001b[0m\u001b[0m\n\u001b[0m\u001b[0;32m      2\u001b[0m \u001b[0mspl\u001b[0m\u001b[1;33m.\u001b[0m\u001b[0mset_smoothing_factor\u001b[0m\u001b[1;33m(\u001b[0m\u001b[1;36m0.5\u001b[0m\u001b[1;33m)\u001b[0m\u001b[1;33m\u001b[0m\u001b[0m\n",
      "\u001b[1;32mC:\\Anaconda3\\lib\\site-packages\\scipy\\interpolate\\fitpack2.py\u001b[0m in \u001b[0;36m__init__\u001b[1;34m(self, x, y, w, bbox, k, s, ext, check_finite)\u001b[0m\n\u001b[0;32m    174\u001b[0m                 \u001b[1;32mraise\u001b[0m \u001b[0mValueError\u001b[0m\u001b[1;33m(\u001b[0m\u001b[1;34m\"x and y array must not contain NaNs or infs.\"\u001b[0m\u001b[1;33m)\u001b[0m\u001b[1;33m\u001b[0m\u001b[0m\n\u001b[0;32m    175\u001b[0m         \u001b[1;32mif\u001b[0m \u001b[1;32mnot\u001b[0m \u001b[0mall\u001b[0m\u001b[1;33m(\u001b[0m\u001b[0mdiff\u001b[0m\u001b[1;33m(\u001b[0m\u001b[0mx\u001b[0m\u001b[1;33m)\u001b[0m \u001b[1;33m>\u001b[0m \u001b[1;36m0.0\u001b[0m\u001b[1;33m)\u001b[0m\u001b[1;33m:\u001b[0m\u001b[1;33m\u001b[0m\u001b[0m\n\u001b[1;32m--> 176\u001b[1;33m             \u001b[1;32mraise\u001b[0m \u001b[0mValueError\u001b[0m\u001b[1;33m(\u001b[0m\u001b[1;34m'x must be strictly increasing'\u001b[0m\u001b[1;33m)\u001b[0m\u001b[1;33m\u001b[0m\u001b[0m\n\u001b[0m\u001b[0;32m    177\u001b[0m \u001b[1;33m\u001b[0m\u001b[0m\n\u001b[0;32m    178\u001b[0m         \u001b[1;31m# _data == x,y,w,xb,xe,k,s,n,t,c,fp,fpint,nrdata,ier\u001b[0m\u001b[1;33m\u001b[0m\u001b[1;33m\u001b[0m\u001b[0m\n",
      "\u001b[1;31mValueError\u001b[0m: x must be strictly increasing"
     ]
    }
   ],
   "source": []
  },
  {
   "cell_type": "code",
   "execution_count": 45,
   "metadata": {},
   "outputs": [],
   "source": []
  },
  {
   "cell_type": "code",
   "execution_count": null,
   "metadata": {},
   "outputs": [],
   "source": []
  }
 ],
 "metadata": {
  "kernelspec": {
   "display_name": "Python 3",
   "language": "python",
   "name": "python3"
  },
  "language_info": {
   "codemirror_mode": {
    "name": "ipython",
    "version": 3
   },
   "file_extension": ".py",
   "mimetype": "text/x-python",
   "name": "python",
   "nbconvert_exporter": "python",
   "pygments_lexer": "ipython3",
   "version": "3.7.1"
  }
 },
 "nbformat": 4,
 "nbformat_minor": 2
}
