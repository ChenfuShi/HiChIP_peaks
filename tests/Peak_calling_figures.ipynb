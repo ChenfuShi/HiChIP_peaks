{
 "cells": [
  {
   "cell_type": "markdown",
   "metadata": {},
   "source": [
    "notebook that was used to generate figures for paper"
   ]
  },
  {
   "cell_type": "code",
   "execution_count": 1,
   "metadata": {},
   "outputs": [],
   "source": [
    "import scipy\n",
    "import scipy.sparse, scipy.stats\n",
    "import numpy\n",
    "import os\n",
    "import re\n",
    "import multiprocessing\n",
    "import subprocess\n",
    "import pickle\n",
    "import matplotlib.pyplot\n",
    "import time\n",
    "import statistics\n",
    "import sklearn\n",
    "import statsmodels , statsmodels.api\n",
    "import itertools"
   ]
  },
  {
   "cell_type": "code",
   "execution_count": 2,
   "metadata": {},
   "outputs": [],
   "source": [
    "def moving_integration (values, window):\n",
    "    weights = numpy.repeat(1.0, window)\n",
    "    sma = numpy.convolve(values, weights, 'same')\n",
    "    return sma\n",
    "def moving_average (values, window):\n",
    "    weights = numpy.repeat(1.0, window)/window\n",
    "    sma = numpy.convolve(values, weights, 'same')\n",
    "    return sma"
   ]
  },
  {
   "cell_type": "code",
   "execution_count": 4,
   "metadata": {},
   "outputs": [],
   "source": [
    "with open(\"../testdata/T_cell_0.10_final_alldata.pickle\",\"rb\") as picklefile:\n",
    "    CSR_mat,frag_index,frag_prop,frag_amount,valid_chroms,chroms_offsets,smoothed_diagonal, refined_peaks ,quick_peaks, peak_p_vals , peaks_q_vals = pickle.load(picklefile)"
   ]
  },
  {
   "cell_type": "code",
   "execution_count": null,
   "metadata": {},
   "outputs": [],
   "source": []
  },
  {
   "cell_type": "code",
   "execution_count": 8,
   "metadata": {},
   "outputs": [
    {
     "data": {
      "text/plain": [
       "(array([289197., 128985., 248440., 227761., 315102., 294979., 340000.,\n",
       "        310868., 325646., 292770., 289002., 259874., 245865., 221689.,\n",
       "        207241., 186769., 173913., 157872., 146130., 133952., 124304.,\n",
       "        114036., 106027.,  98038.,  90597.,  84550.,  78626.,  73346.,\n",
       "         68627.,  63483.,  60141.,  55603.,  52713.,  48819.,  45529.,\n",
       "         43135.,  40640.,  37745.,  35206.,  33478.,  31217.,  29538.,\n",
       "         27914.,  26261.,  24512.,  23126.,  22021.,  21235.,  20093.,\n",
       "         18764.,  18058.,  17068.,  16272.,  15584.,  14886.,  14251.,\n",
       "         13443.,  13045.,  12302.,  11921.,  11344.,  10736.,  10293.,\n",
       "          9915.,   9649.,   9169.,   8779.,   8431.,   8024.,   7859.,\n",
       "          7640.,   7462.,   7143.,   6913.,   6609.,   6626.,   6131.,\n",
       "          5861.,   5814.,   5638.,   5571.,   5330.,   5132.,   5007.,\n",
       "          4915.,   4659.,   4654.,   4499.,   4410.,   4133.,   4176.,\n",
       "          4047.,   3952.,   3881.,   3757.,   3624.,   3558.,   3535.,\n",
       "          3424.,   6597.]),\n",
       " array([  0.,   1.,   2.,   3.,   4.,   5.,   6.,   7.,   8.,   9.,  10.,\n",
       "         11.,  12.,  13.,  14.,  15.,  16.,  17.,  18.,  19.,  20.,  21.,\n",
       "         22.,  23.,  24.,  25.,  26.,  27.,  28.,  29.,  30.,  31.,  32.,\n",
       "         33.,  34.,  35.,  36.,  37.,  38.,  39.,  40.,  41.,  42.,  43.,\n",
       "         44.,  45.,  46.,  47.,  48.,  49.,  50.,  51.,  52.,  53.,  54.,\n",
       "         55.,  56.,  57.,  58.,  59.,  60.,  61.,  62.,  63.,  64.,  65.,\n",
       "         66.,  67.,  68.,  69.,  70.,  71.,  72.,  73.,  74.,  75.,  76.,\n",
       "         77.,  78.,  79.,  80.,  81.,  82.,  83.,  84.,  85.,  86.,  87.,\n",
       "         88.,  89.,  90.,  91.,  92.,  93.,  94.,  95.,  96.,  97.,  98.,\n",
       "         99., 100.]),\n",
       " <a list of 100 Patch objects>)"
      ]
     },
     "execution_count": 8,
     "metadata": {},
     "output_type": "execute_result"
    }
   ],
   "source": [
    "#distribution of reads frequency\n",
    "%matplotlib qt\n",
    "\n",
    "fig = matplotlib.pyplot.figure()\n",
    "ax = fig.add_subplot(111)\n",
    "\n",
    "ax.hist(smoothed_diagonal, bins=100, range=(0,100))"
   ]
  },
  {
   "cell_type": "code",
   "execution_count": null,
   "metadata": {},
   "outputs": [],
   "source": []
  },
  {
   "cell_type": "code",
   "execution_count": 33,
   "metadata": {},
   "outputs": [
    {
     "data": {
      "text/plain": [
       "(array([845420., 298147., 278410., 277179., 282318., 281376., 305076.,\n",
       "        310974., 319878., 312041., 397941., 323357., 420140., 401751.,\n",
       "        330652., 352053., 339556., 384518., 248440., 418182.]),\n",
       " array([0.  , 0.05, 0.1 , 0.15, 0.2 , 0.25, 0.3 , 0.35, 0.4 , 0.45, 0.5 ,\n",
       "        0.55, 0.6 , 0.65, 0.7 , 0.75, 0.8 , 0.85, 0.9 , 0.95, 1.  ]),\n",
       " <a list of 20 Patch objects>)"
      ]
     },
     "execution_count": 33,
     "metadata": {},
     "output_type": "execute_result"
    }
   ],
   "source": [
    "# distribution of p values after binomial model\n",
    "%matplotlib qt\n",
    "\n",
    "fig = matplotlib.pyplot.figure()\n",
    "ax = fig.add_subplot(111)\n",
    "\n",
    "\n",
    "ax.hist(peak_p_vals, bins=20, range=(0,1))"
   ]
  },
  {
   "cell_type": "code",
   "execution_count": null,
   "metadata": {},
   "outputs": [],
   "source": [
    "bedtools annotate -counts -i T_cell_0.001_final_peaks.bed -files T_helper_replicated_peaks.bed | sort -k6,6 -r -g > coverage_data/T_cell_0.001_final_peaks.bed\n",
    "bedtools annotate -counts -i T_cell_0.01_final_peaks.bed -files T_helper_replicated_peaks.bed | sort -k6,6 -r -g > coverage_data/T_cell_0.01_final_peaks.bed\n",
    "bedtools annotate -counts -i T_cell_0.10_final_peaks.bed -files T_helper_replicated_peaks.bed | sort -k6,6 -r -g > coverage_data/T_cell_0.10_final_peaks.bed\n"
   ]
  },
  {
   "cell_type": "code",
   "execution_count": 35,
   "metadata": {},
   "outputs": [
    {
     "data": {
      "text/plain": [
       "<matplotlib.collections.PathCollection at 0x2690a886eb8>"
      ]
     },
     "execution_count": 35,
     "metadata": {},
     "output_type": "execute_result"
    }
   ],
   "source": [
    "%matplotlib qt\n",
    "\n",
    "fig = matplotlib.pyplot.figure()\n",
    "ax = fig.add_subplot(111)\n",
    "\n",
    "with open(\"../testdata/coverage_data/T_cell_0.001_final_peaks.bed\") as data:\n",
    "    graph_data_x=[]\n",
    "    graph_data_y=[]\n",
    "    for line in data:\n",
    "        line_info = line.split()\n",
    "        graph_data_x.append(int(line_info[2])-int(line_info[1]))\n",
    "        graph_data_y.append(float(line_info[6]))\n",
    "\n",
    "\n",
    "ax.plot(numpy.array(graph_data_x).cumsum(),numpy.array(graph_data_y).cumsum())\n",
    "\n",
    "with open(\"../testdata/coverage_data/T_cell_0.01_final_peaks.bed\") as data:\n",
    "    graph_data_x=[]\n",
    "    graph_data_y=[]\n",
    "    for line in data:\n",
    "        line_info = line.split()\n",
    "        graph_data_x.append(int(line_info[2])-int(line_info[1]))\n",
    "        graph_data_y.append(float(line_info[6]))\n",
    "\n",
    "\n",
    "ax.plot(numpy.array(graph_data_x).cumsum(),numpy.array(graph_data_y).cumsum())\n",
    "\n",
    "with open(\"../testdata/coverage_data/T_cell_0.10_final_peaks.bed\") as data:\n",
    "    graph_data_x=[]\n",
    "    graph_data_y=[]\n",
    "    for line in data:\n",
    "        line_info = line.split()\n",
    "        graph_data_x.append(int(line_info[2])-int(line_info[1]))\n",
    "        graph_data_y.append(float(line_info[6]))\n",
    "\n",
    "\n",
    "ax.plot(numpy.array(graph_data_x).cumsum(),numpy.array(graph_data_y).cumsum())\n",
    "\n",
    "ax.scatter(125462713,32969)\n",
    "\n",
    "#0.05\n",
    "#ax.scatter(41530,32969)"
   ]
  },
  {
   "cell_type": "code",
   "execution_count": 22,
   "metadata": {},
   "outputs": [
    {
     "data": {
      "text/plain": [
       "<matplotlib.collections.PathCollection at 0x26904a7b518>"
      ]
     },
     "execution_count": 22,
     "metadata": {},
     "output_type": "execute_result"
    }
   ],
   "source": []
  },
  {
   "cell_type": "code",
   "execution_count": 23,
   "metadata": {},
   "outputs": [],
   "source": [
    "bedtools annotate -counts -i GM12878_0.001_final_peaks.bed -files GM12878_replicated_peaks.bed | sort -k6,6 -r -g > coverage_data/GM12878_0.001_final_peaks.bed\n",
    "bedtools annotate -counts -i GM12878_0.01_final_peaks.bed -files GM12878_replicated_peaks.bed | sort -k6,6 -r -g > coverage_data/GM12878_0.01_final_peaks.bed\n",
    "bedtools annotate -counts -i GM12878_0.10_final_peaks.bed -files GM12878_replicated_peaks.bed | sort -k6,6 -r -g > coverage_data/GM12878_0.10_final_peaks.bed\n"
   ]
  },
  {
   "cell_type": "code",
   "execution_count": 34,
   "metadata": {},
   "outputs": [
    {
     "data": {
      "text/plain": [
       "<matplotlib.collections.PathCollection at 0x26909e860b8>"
      ]
     },
     "execution_count": 34,
     "metadata": {},
     "output_type": "execute_result"
    }
   ],
   "source": [
    "%matplotlib qt\n",
    "\n",
    "fig = matplotlib.pyplot.figure()\n",
    "ax = fig.add_subplot(111)\n",
    "\n",
    "with open(\"../testdata/coverage_data/GM12878_0.001_final_peaks.bed\") as data:\n",
    "    graph_data_x=[]\n",
    "    graph_data_y=[]\n",
    "    for line in data:\n",
    "        line_info = line.split()\n",
    "        graph_data_x.append(int(line_info[2])-int(line_info[1]))\n",
    "        graph_data_y.append(float(line_info[6]))\n",
    "\n",
    "\n",
    "ax.plot(numpy.array(graph_data_x).cumsum(),numpy.array(graph_data_y).cumsum())\n",
    "\n",
    "with open(\"../testdata/coverage_data/GM12878_0.01_final_peaks.bed\") as data:\n",
    "    graph_data_x=[]\n",
    "    graph_data_y=[]\n",
    "    for line in data:\n",
    "        line_info = line.split()\n",
    "        graph_data_x.append(int(line_info[2])-int(line_info[1]))\n",
    "        graph_data_y.append(float(line_info[6]))\n",
    "\n",
    "\n",
    "ax.plot(numpy.array(graph_data_x).cumsum(),numpy.array(graph_data_y).cumsum())\n",
    "\n",
    "with open(\"../testdata/coverage_data/GM12878_0.10_final_peaks.bed\") as data:\n",
    "    graph_data_x=[]\n",
    "    graph_data_y=[]\n",
    "    for line in data:\n",
    "        line_info = line.split()\n",
    "        graph_data_x.append(int(line_info[2])-int(line_info[1]))\n",
    "        graph_data_y.append(float(line_info[6]))\n",
    "\n",
    "\n",
    "ax.plot(numpy.array(graph_data_x).cumsum(),numpy.array(graph_data_y).cumsum())\n",
    "\n",
    "ax.scatter(231706073,47273)\n",
    "\n",
    "#0.05\n",
    "#ax.scatter(69524,47273)"
   ]
  },
  {
   "cell_type": "code",
   "execution_count": null,
   "metadata": {},
   "outputs": [],
   "source": []
  }
 ],
 "metadata": {
  "kernelspec": {
   "display_name": "Python 3",
   "language": "python",
   "name": "python3"
  },
  "language_info": {
   "codemirror_mode": {
    "name": "ipython",
    "version": 3
   },
   "file_extension": ".py",
   "mimetype": "text/x-python",
   "name": "python",
   "nbconvert_exporter": "python",
   "pygments_lexer": "ipython3",
   "version": "3.7.1"
  }
 },
 "nbformat": 4,
 "nbformat_minor": 2
}
