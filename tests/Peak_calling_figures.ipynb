{
 "cells": [
  {
   "cell_type": "markdown",
   "metadata": {},
   "source": [
    "notebook that was used to generate figures for paper"
   ]
  },
  {
   "cell_type": "code",
   "execution_count": 10,
   "metadata": {},
   "outputs": [],
   "source": [
    "import scipy\n",
    "import scipy.sparse, scipy.stats\n",
    "import numpy\n",
    "import os\n",
    "import re\n",
    "import multiprocessing\n",
    "import subprocess\n",
    "import pickle\n",
    "import matplotlib.pyplot\n",
    "import time\n",
    "import statistics\n",
    "import sklearn\n",
    "import statsmodels , statsmodels.api\n",
    "import itertools\n",
    "import random\n",
    "import math"
   ]
  },
  {
   "cell_type": "code",
   "execution_count": 7,
   "metadata": {},
   "outputs": [],
   "source": [
    "def moving_integration (values, window):\n",
    "    weights = numpy.repeat(1.0, window)\n",
    "    sma = numpy.convolve(values, weights, 'same')\n",
    "    return sma\n",
    "def moving_average (values, window):\n",
    "    weights = numpy.repeat(1.0, window)/window\n",
    "    sma = numpy.convolve(values, weights, 'same')\n",
    "    return sma"
   ]
  },
  {
   "cell_type": "code",
   "execution_count": 2,
   "metadata": {},
   "outputs": [],
   "source": [
    "with open(\"../testdata/T_cell_0.10_final_alldata.pickle\",\"rb\") as picklefile:\n",
    "    CSR_mat,frag_index,frag_prop,frag_amount,valid_chroms,chroms_offsets,smoothed_diagonal, refined_peaks ,quick_peaks, peak_p_vals , peaks_q_vals = pickle.load(picklefile)"
   ]
  },
  {
   "cell_type": "code",
   "execution_count": null,
   "metadata": {},
   "outputs": [],
   "source": []
  },
  {
   "cell_type": "code",
   "execution_count": 13,
   "metadata": {},
   "outputs": [
    {
     "data": {
      "text/plain": [
       "(array([418182., 476201., 610081., 650868., 618416., 548876., 467554.,\n",
       "        394010., 331785., 280082., 238340., 204065., 175147., 151972.,\n",
       "        132110., 115744., 101532.,  88664.,  78385.,  68684.,  60755.,\n",
       "         54175.,  47638.,  43256.,  38857.,  35126.,  31856.,  29137.,\n",
       "         26488.,  24223.,  22080.,  20208.,  18818.,  17210.,  15883.,\n",
       "         15102.,  14056.,  13235.,  11992.,  11452.,  10901.,  10139.,\n",
       "          9574.,   9153.,   8543.,   8223.,   7833.,   7381.,   7093.,\n",
       "         10021.]),\n",
       " array([  0.,   2.,   4.,   6.,   8.,  10.,  12.,  14.,  16.,  18.,  20.,\n",
       "         22.,  24.,  26.,  28.,  30.,  32.,  34.,  36.,  38.,  40.,  42.,\n",
       "         44.,  46.,  48.,  50.,  52.,  54.,  56.,  58.,  60.,  62.,  64.,\n",
       "         66.,  68.,  70.,  72.,  74.,  76.,  78.,  80.,  82.,  84.,  86.,\n",
       "         88.,  90.,  92.,  94.,  96.,  98., 100.]),\n",
       " <a list of 50 Patch objects>)"
      ]
     },
     "execution_count": 13,
     "metadata": {},
     "output_type": "execute_result"
    }
   ],
   "source": [
    "#distribution of reads frequency\n",
    "%matplotlib qt\n",
    "\n",
    "fig = matplotlib.pyplot.figure()\n",
    "ax = fig.add_subplot(111)\n",
    "\n",
    "ax.hist(smoothed_diagonal, bins=50, range=(0,100))"
   ]
  },
  {
   "cell_type": "code",
   "execution_count": null,
   "metadata": {},
   "outputs": [],
   "source": []
  },
  {
   "cell_type": "code",
   "execution_count": 33,
   "metadata": {},
   "outputs": [
    {
     "data": {
      "text/plain": [
       "(array([845420., 298147., 278410., 277179., 282318., 281376., 305076.,\n",
       "        310974., 319878., 312041., 397941., 323357., 420140., 401751.,\n",
       "        330652., 352053., 339556., 384518., 248440., 418182.]),\n",
       " array([0.  , 0.05, 0.1 , 0.15, 0.2 , 0.25, 0.3 , 0.35, 0.4 , 0.45, 0.5 ,\n",
       "        0.55, 0.6 , 0.65, 0.7 , 0.75, 0.8 , 0.85, 0.9 , 0.95, 1.  ]),\n",
       " <a list of 20 Patch objects>)"
      ]
     },
     "execution_count": 33,
     "metadata": {},
     "output_type": "execute_result"
    }
   ],
   "source": [
    "# distribution of p values after binomial model\n",
    "%matplotlib qt\n",
    "\n",
    "fig = matplotlib.pyplot.figure()\n",
    "ax = fig.add_subplot(111)\n",
    "\n",
    "\n",
    "ax.hist(peak_p_vals, bins=20, range=(0,1))"
   ]
  },
  {
   "cell_type": "code",
   "execution_count": null,
   "metadata": {},
   "outputs": [],
   "source": [
    "bedtools annotate -counts -i T_cell_0.001_final_peaks.bed -files T_helper_replicated_peaks.bed | sort -k6,6 -r -g > coverage_data/T_cell_0.001_final_peaks.bed\n",
    "bedtools annotate -counts -i T_cell_0.01_final_peaks.bed -files T_helper_replicated_peaks.bed | sort -k6,6 -r -g > coverage_data/T_cell_0.01_final_peaks.bed\n",
    "bedtools annotate -counts -i T_cell_0.10_final_peaks.bed -files T_helper_replicated_peaks.bed | sort -k6,6 -r -g > coverage_data/T_cell_0.10_final_peaks.bed\n"
   ]
  },
  {
   "cell_type": "code",
   "execution_count": 48,
   "metadata": {},
   "outputs": [
    {
     "data": {
      "text/plain": [
       "<matplotlib.collections.PathCollection at 0x23029057470>"
      ]
     },
     "execution_count": 48,
     "metadata": {},
     "output_type": "execute_result"
    }
   ],
   "source": [
    "%matplotlib qt\n",
    "\n",
    "fig = matplotlib.pyplot.figure()\n",
    "ax = fig.add_subplot(111)\n",
    "\n",
    "with open(\"../testdata/coverage_data/T_cell_0.001_final_peaks.bed\") as data:\n",
    "    graph_data_x=[]\n",
    "    graph_data_y=[]\n",
    "    for line in data:\n",
    "        line_info = line.split()\n",
    "        graph_data_x.append(int(line_info[2])-int(line_info[1]))\n",
    "        graph_data_y.append(float(line_info[6]))\n",
    "\n",
    "\n",
    "ax.plot(numpy.array(graph_data_x).cumsum(),numpy.array(graph_data_y).cumsum())\n",
    "\n",
    "with open(\"../testdata/coverage_data/T_cell_0.01_final_peaks.bed\") as data:\n",
    "    graph_data_x=[]\n",
    "    graph_data_y=[]\n",
    "    for line in data:\n",
    "        line_info = line.split()\n",
    "        graph_data_x.append(int(line_info[2])-int(line_info[1]))\n",
    "        graph_data_y.append(float(line_info[6]))\n",
    "\n",
    "\n",
    "ax.plot(numpy.array(graph_data_x).cumsum(),numpy.array(graph_data_y).cumsum())\n",
    "\n",
    "with open(\"../testdata/coverage_data/T_cell_0.10_final_peaks.bed\") as data:\n",
    "    graph_data_x=[]\n",
    "    graph_data_y=[]\n",
    "    for line in data:\n",
    "        line_info = line.split()\n",
    "        graph_data_x.append(int(line_info[2])-int(line_info[1]))\n",
    "        graph_data_y.append(float(line_info[6]))\n",
    "\n",
    "\n",
    "ax.plot(numpy.array(graph_data_x).cumsum(),numpy.array(graph_data_y).cumsum())\n",
    "\n",
    "ax.scatter(125462713,32969)\n",
    "\n",
    "#0.05\n",
    "#ax.scatter(41530,32969)"
   ]
  },
  {
   "cell_type": "code",
   "execution_count": 22,
   "metadata": {},
   "outputs": [
    {
     "data": {
      "text/plain": [
       "<matplotlib.collections.PathCollection at 0x26904a7b518>"
      ]
     },
     "execution_count": 22,
     "metadata": {},
     "output_type": "execute_result"
    }
   ],
   "source": []
  },
  {
   "cell_type": "code",
   "execution_count": 23,
   "metadata": {},
   "outputs": [],
   "source": [
    "bedtools annotate -counts -i GM12878_0.001_final_peaks.bed -files GM12878_replicated_peaks.bed | sort -k6,6 -r -g > coverage_data/GM12878_0.001_final_peaks.bed\n",
    "bedtools annotate -counts -i GM12878_0.01_final_peaks.bed -files GM12878_replicated_peaks.bed | sort -k6,6 -r -g > coverage_data/GM12878_0.01_final_peaks.bed\n",
    "bedtools annotate -counts -i GM12878_0.10_final_peaks.bed -files GM12878_replicated_peaks.bed | sort -k6,6 -r -g > coverage_data/GM12878_0.10_final_peaks.bed\n"
   ]
  },
  {
   "cell_type": "code",
   "execution_count": 34,
   "metadata": {},
   "outputs": [
    {
     "data": {
      "text/plain": [
       "<matplotlib.collections.PathCollection at 0x26909e860b8>"
      ]
     },
     "execution_count": 34,
     "metadata": {},
     "output_type": "execute_result"
    }
   ],
   "source": [
    "%matplotlib qt\n",
    "\n",
    "fig = matplotlib.pyplot.figure()\n",
    "ax = fig.add_subplot(111)\n",
    "\n",
    "with open(\"../testdata/coverage_data/GM12878_0.001_final_peaks.bed\") as data:\n",
    "    graph_data_x=[]\n",
    "    graph_data_y=[]\n",
    "    for line in data:\n",
    "        line_info = line.split()\n",
    "        graph_data_x.append(int(line_info[2])-int(line_info[1]))\n",
    "        graph_data_y.append(float(line_info[6]))\n",
    "\n",
    "\n",
    "ax.plot(numpy.array(graph_data_x).cumsum(),numpy.array(graph_data_y).cumsum())\n",
    "\n",
    "with open(\"../testdata/coverage_data/GM12878_0.01_final_peaks.bed\") as data:\n",
    "    graph_data_x=[]\n",
    "    graph_data_y=[]\n",
    "    for line in data:\n",
    "        line_info = line.split()\n",
    "        graph_data_x.append(int(line_info[2])-int(line_info[1]))\n",
    "        graph_data_y.append(float(line_info[6]))\n",
    "\n",
    "\n",
    "ax.plot(numpy.array(graph_data_x).cumsum(),numpy.array(graph_data_y).cumsum())\n",
    "\n",
    "with open(\"../testdata/coverage_data/GM12878_0.10_final_peaks.bed\") as data:\n",
    "    graph_data_x=[]\n",
    "    graph_data_y=[]\n",
    "    for line in data:\n",
    "        line_info = line.split()\n",
    "        graph_data_x.append(int(line_info[2])-int(line_info[1]))\n",
    "        graph_data_y.append(float(line_info[6]))\n",
    "\n",
    "\n",
    "ax.plot(numpy.array(graph_data_x).cumsum(),numpy.array(graph_data_y).cumsum())\n",
    "\n",
    "ax.scatter(231706073,47273)\n",
    "\n",
    "#0.05\n",
    "#ax.scatter(69524,47273)"
   ]
  },
  {
   "cell_type": "code",
   "execution_count": null,
   "metadata": {},
   "outputs": [],
   "source": []
  },
  {
   "cell_type": "code",
   "execution_count": 46,
   "metadata": {},
   "outputs": [],
   "source": [
    "# fragment size bias\n",
    "# self-circle and dangling ends pairs only. Plot lowess fit of fragment size to number of reads\n",
    "#maybe integrate the thing for the maximum and minimum size below as well\n",
    "res_frag_mat = scipy.sparse.load_npz('../../domain_caller/testdata/sparse_matrix_mumbach.npz')\n",
    "SC_DE_pairs = res_frag_mat.diagonal(k=0) #self circle and dangling end pairs\n",
    "sizes=[]\n",
    "for i in frag_prop:\n",
    "    sizes.append(i[3])\n",
    "    \n",
    "sizes_sub, SC_DE_pairs_sub = zip(*random.sample(list(zip(sizes, SC_DE_pairs)), 50000))\n",
    "y = statsmodels.api.nonparametric.lowess(SC_DE_pairs_sub, sizes_sub,return_sorted=False,frac=0.2,delta=10.0)\n",
    "%matplotlib qt\n",
    "fig, ax = matplotlib.pyplot.subplots()\n",
    "ax.scatter(sizes_sub,y)\n",
    "fig.show()"
   ]
  },
  {
   "cell_type": "code",
   "execution_count": 44,
   "metadata": {},
   "outputs": [],
   "source": [
    "# fragment size bias with our method\n",
    "\n",
    "lengths = [x[3] for x in frag_prop] \n",
    "group_lengths = moving_integration(lengths, 2)  ###changed to 2, so the 2 fragments within\n",
    "min_allowed_size = math.floor(numpy.percentile(group_lengths, 1))\n",
    "max_allowed_size = math.floor(numpy.percentile(group_lengths, 99))\n",
    "# add 1s to quick peaks to exclude them from the noise modelling\n",
    "noise_filter = quick_peaks.copy()\n",
    "for i in range(len(group_lengths)):\n",
    "    if group_lengths[i] > max_allowed_size or group_lengths[i] < min_allowed_size:\n",
    "        noise_filter[i] = 1\n",
    "\n",
    "# select only the bits that give you noise. On which to model stuff\n",
    "noise_lengths = list(itertools.compress(group_lengths, [not i for i in noise_filter]))\n",
    "noise_diagonal = list(itertools.compress(smoothed_diagonal, [not i for i in noise_filter]))\n",
    "\n",
    "idx = numpy.random.choice(len(noise_lengths), size=200000, replace=False)\n",
    "subset_lengths = [noise_lengths[n] for n in idx]\n",
    "subset_diagonal = [noise_diagonal[n] for n in idx]\n",
    "# find lowess prediction\n",
    "predicted_stuff = statsmodels.api.nonparametric.lowess(subset_diagonal, subset_lengths,return_sorted=True, frac=0.4 , delta=3.0 ) \n",
    "predicted_lengths = list(zip(*predicted_stuff))[0]\n",
    "predicted_diagonals = list(zip(*predicted_stuff))[1]\n",
    "\n",
    "%matplotlib qt\n",
    "fig, ax = matplotlib.pyplot.subplots()\n",
    "ax.scatter(predicted_lengths,predicted_diagonals)\n",
    "fig.show()"
   ]
  },
  {
   "cell_type": "code",
   "execution_count": 45,
   "metadata": {},
   "outputs": [],
   "source": [
    "# fit on the diagonal without smoothing. using the size of the restriction fragment before and after\n",
    "from context import hichip_tool\n",
    "\n",
    "from hichip_tool import sparse_to_peaks\n",
    "\n",
    "non_smooth_diagonal = sparse_to_peaks.extract_diagonal(CSR_mat,2)[0]\n",
    "\n",
    "idx = numpy.random.choice(len(group_lengths), size=200000, replace=False)\n",
    "subset_lengths = [group_lengths[n] for n in idx]\n",
    "subset_diagonal = [non_smooth_diagonal[n] for n in idx]\n",
    "# find lowess prediction\n",
    "predicted_stuff = statsmodels.api.nonparametric.lowess(subset_diagonal, subset_lengths,return_sorted=True, frac=0.4 , delta=3.0 ) \n",
    "predicted_lengths = list(zip(*predicted_stuff))[0]\n",
    "predicted_diagonals = list(zip(*predicted_stuff))[1]\n",
    "\n",
    "%matplotlib qt\n",
    "fig, ax = matplotlib.pyplot.subplots()\n",
    "ax.scatter(predicted_lengths,predicted_diagonals)\n",
    "fig.show()"
   ]
  },
  {
   "cell_type": "code",
   "execution_count": null,
   "metadata": {},
   "outputs": [],
   "source": []
  },
  {
   "cell_type": "code",
   "execution_count": 24,
   "metadata": {},
   "outputs": [
    {
     "data": {
      "text/plain": [
       "82782600.0"
      ]
     },
     "execution_count": 24,
     "metadata": {},
     "output_type": "execute_result"
    }
   ],
   "source": [
    "from context import hichip_tool\n",
    "\n",
    "from hichip_tool import sparse_to_peaks\n",
    "\n",
    "sparse_to_peaks.extract_diagonal(CSR_mat,2)[1]\n",
    "round(sum(smoothed_diagonal)/3)"
   ]
  },
  {
   "cell_type": "code",
   "execution_count": 26,
   "metadata": {},
   "outputs": [
    {
     "data": {
      "text/plain": [
       "61810283"
      ]
     },
     "execution_count": 26,
     "metadata": {},
     "output_type": "execute_result"
    }
   ],
   "source": [
    "sum(res_frag_mat.diagonal(k=0)) + sum(res_frag_mat.diagonal(k=1)) "
   ]
  },
  {
   "cell_type": "code",
   "execution_count": 33,
   "metadata": {},
   "outputs": [
    {
     "data": {
      "text/plain": [
       "82782600.0"
      ]
     },
     "execution_count": 33,
     "metadata": {},
     "output_type": "execute_result"
    }
   ],
   "source": [
    "# import matplotlib.backends.backend_pdf\n",
    "# pdf = matplotlib.backends.backend_pdf.PdfPages(\"output.pdf\")\n",
    "# for fig in xrange(1, figure().number): ## will open an empty extra figure :(\n",
    "#     pdf.savefig( fig )\n",
    "# pdf.close()"
   ]
  },
  {
   "cell_type": "code",
   "execution_count": 42,
   "metadata": {},
   "outputs": [
    {
     "ename": "ValueError",
     "evalue": "At least one argument from \"cellColours\" or \"cellText\" must be provided to create a table.",
     "output_type": "error",
     "traceback": [
      "\u001b[1;31m---------------------------------------------------------------------------\u001b[0m",
      "\u001b[1;31mValueError\u001b[0m                                Traceback (most recent call last)",
      "\u001b[1;32m<ipython-input-42-adbdb1eb4356>\u001b[0m in \u001b[0;36m<module>\u001b[1;34m\u001b[0m\n\u001b[0;32m      8\u001b[0m       \u001b[0mrowLabels\u001b[0m\u001b[1;33m=\u001b[0m\u001b[1;32mNone\u001b[0m\u001b[1;33m,\u001b[0m \u001b[0mrowColours\u001b[0m\u001b[1;33m=\u001b[0m\u001b[1;32mNone\u001b[0m\u001b[1;33m,\u001b[0m \u001b[0mrowLoc\u001b[0m\u001b[1;33m=\u001b[0m\u001b[1;34m'left'\u001b[0m\u001b[1;33m,\u001b[0m\u001b[1;33m\u001b[0m\u001b[1;33m\u001b[0m\u001b[0m\n\u001b[0;32m      9\u001b[0m       \u001b[0mcolLabels\u001b[0m\u001b[1;33m=\u001b[0m\u001b[1;32mNone\u001b[0m\u001b[1;33m,\u001b[0m \u001b[0mcolColours\u001b[0m\u001b[1;33m=\u001b[0m\u001b[1;32mNone\u001b[0m\u001b[1;33m,\u001b[0m \u001b[0mcolLoc\u001b[0m\u001b[1;33m=\u001b[0m\u001b[1;34m'center'\u001b[0m\u001b[1;33m,\u001b[0m\u001b[1;33m\u001b[0m\u001b[1;33m\u001b[0m\u001b[0m\n\u001b[1;32m---> 10\u001b[1;33m       loc='bottom', bbox=None)\n\u001b[0m\u001b[0;32m     11\u001b[0m \u001b[0mfig\u001b[0m\u001b[1;33m.\u001b[0m\u001b[0mshow\u001b[0m\u001b[1;33m(\u001b[0m\u001b[1;33m)\u001b[0m\u001b[1;33m\u001b[0m\u001b[1;33m\u001b[0m\u001b[0m\n",
      "\u001b[1;32m~\\Anaconda3\\lib\\site-packages\\matplotlib\\axes\\_axes.py\u001b[0m in \u001b[0;36mtable\u001b[1;34m(self, **kwargs)\u001b[0m\n\u001b[0;32m   6271\u001b[0m         \u001b[1;33m%\u001b[0m\u001b[1;33m(\u001b[0m\u001b[0mTable\u001b[0m\u001b[1;33m)\u001b[0m\u001b[0ms\u001b[0m\u001b[1;33m\u001b[0m\u001b[1;33m\u001b[0m\u001b[0m\n\u001b[0;32m   6272\u001b[0m         \"\"\"\n\u001b[1;32m-> 6273\u001b[1;33m         \u001b[1;32mreturn\u001b[0m \u001b[0mmtable\u001b[0m\u001b[1;33m.\u001b[0m\u001b[0mtable\u001b[0m\u001b[1;33m(\u001b[0m\u001b[0mself\u001b[0m\u001b[1;33m,\u001b[0m \u001b[1;33m**\u001b[0m\u001b[0mkwargs\u001b[0m\u001b[1;33m)\u001b[0m\u001b[1;33m\u001b[0m\u001b[1;33m\u001b[0m\u001b[0m\n\u001b[0m\u001b[0;32m   6274\u001b[0m \u001b[1;33m\u001b[0m\u001b[0m\n\u001b[0;32m   6275\u001b[0m     \u001b[1;31m#### Data analysis\u001b[0m\u001b[1;33m\u001b[0m\u001b[1;33m\u001b[0m\u001b[1;33m\u001b[0m\u001b[0m\n",
      "\u001b[1;32m~\\Anaconda3\\lib\\site-packages\\matplotlib\\table.py\u001b[0m in \u001b[0;36mtable\u001b[1;34m(ax, cellText, cellColours, cellLoc, colWidths, rowLabels, rowColours, rowLoc, colLabels, colColours, colLoc, loc, bbox, edges, **kwargs)\u001b[0m\n\u001b[0;32m    596\u001b[0m \u001b[1;33m\u001b[0m\u001b[0m\n\u001b[0;32m    597\u001b[0m     \u001b[1;32mif\u001b[0m \u001b[0mcellColours\u001b[0m \u001b[1;32mis\u001b[0m \u001b[1;32mNone\u001b[0m \u001b[1;32mand\u001b[0m \u001b[0mcellText\u001b[0m \u001b[1;32mis\u001b[0m \u001b[1;32mNone\u001b[0m\u001b[1;33m:\u001b[0m\u001b[1;33m\u001b[0m\u001b[1;33m\u001b[0m\u001b[0m\n\u001b[1;32m--> 598\u001b[1;33m         raise ValueError('At least one argument from \"cellColours\" or '\n\u001b[0m\u001b[0;32m    599\u001b[0m                          '\"cellText\" must be provided to create a table.')\n\u001b[0;32m    600\u001b[0m \u001b[1;33m\u001b[0m\u001b[0m\n",
      "\u001b[1;31mValueError\u001b[0m: At least one argument from \"cellColours\" or \"cellText\" must be provided to create a table."
     ]
    }
   ],
   "source": [
    "\n",
    "fig, ax = matplotlib.pyplot.subplots()\n",
    "\n",
    "ax.text(0.1, 0.1, 'matplotlib')\n",
    "ax.axis(\"off\")\n",
    "ax.table(cellText=None, cellColours=None,\n",
    "      cellLoc='right', colWidths=None,\n",
    "      rowLabels=None, rowColours=None, rowLoc='left',\n",
    "      colLabels=None, colColours=None, colLoc='center',\n",
    "      loc='bottom', bbox=None)\n",
    "fig.show()"
   ]
  },
  {
   "cell_type": "code",
   "execution_count": null,
   "metadata": {},
   "outputs": [],
   "source": []
  }
 ],
 "metadata": {
  "kernelspec": {
   "display_name": "Python 3",
   "language": "python",
   "name": "python3"
  },
  "language_info": {
   "codemirror_mode": {
    "name": "ipython",
    "version": 3
   },
   "file_extension": ".py",
   "mimetype": "text/x-python",
   "name": "python",
   "nbconvert_exporter": "python",
   "pygments_lexer": "ipython3",
   "version": "3.7.1"
  }
 },
 "nbformat": 4,
 "nbformat_minor": 2
}
