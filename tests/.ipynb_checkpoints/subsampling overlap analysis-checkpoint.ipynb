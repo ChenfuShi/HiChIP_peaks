{
 "cells": [
  {
   "cell_type": "markdown",
   "metadata": {},
   "source": [
    "### Script for checking reliability of loop calling of hichipper\n",
    "This script is used to check if the reliability of hichipper increases using peaks called with the new algorithm compared to the included loop calling method.\n",
    "\n",
    "This will take in input the converted washu interactions format filtered by FDR < 0.10 because at least all interactions appear only once and this makes it easier.\n",
    "```\n",
    "Premature optimization is the root of all evil (or at least most of it) in programming\n",
    "Donald Knuth\n",
    "```"
   ]
  },
  {
   "cell_type": "code",
   "execution_count": 1,
   "metadata": {},
   "outputs": [],
   "source": [
    "### import necessary functions\n",
    "import scipy\n",
    "import scipy.sparse, scipy.stats\n",
    "import numpy\n",
    "import os\n",
    "import re\n",
    "import multiprocessing\n",
    "import subprocess\n",
    "import pickle\n",
    "import matplotlib.pyplot as plt \n",
    "import matplotlib.pyplot\n",
    "import time\n",
    "import statistics\n",
    "import sklearn\n",
    "import statsmodels , statsmodels.api\n",
    "import itertools\n",
    "import random\n",
    "import math"
   ]
  },
  {
   "cell_type": "code",
   "execution_count": 47,
   "metadata": {},
   "outputs": [],
   "source": [
    "def check_overlap(A,B):\n",
    "    # A and B are two tuples start and end of anchors. need to find if B touches A.\n",
    "    if (B[0] >= A[0] and B[0] <= A[1]) or (B[1] >= A[0] and B[1] <= A[1]) or (B[0] <= A[0] and B[1] >= A[1]) :\n",
    "        #which means if one of the 2 ends of B is within A by at least 1 bp then ok\n",
    "        return True\n",
    "    else:\n",
    "        return False\n",
    "    \n",
    "\n",
    "def check_presence(database, loop,chromosome):\n",
    "    #checks if the loop is in the loop database\n",
    "    for item in database[chromosome]:\n",
    "        if (check_overlap(item[0],loop[0]) and check_overlap(item[1],loop[1])) or (check_overlap(item[0],loop[1]) and check_overlap(item[1],loop[0])):\n",
    "            return True\n",
    "    return False\n",
    "\n",
    "# database is a list of tuples(loops)\n",
    "# each loop is a tuple containing the tuple of two anchors\n",
    "# chromosome is now going to be assumed correct\n",
    "# [((startA,endA),(startB,endB)),((startA,endA),(startB,endB)),....]"
   ]
  },
  {
   "cell_type": "code",
   "execution_count": 42,
   "metadata": {},
   "outputs": [],
   "source": [
    "def calculate_overlap(reference_database,test_database):\n",
    "    # check how many things overlap between control and test.\n",
    "    overlapping = []\n",
    "    for chromosome in test_database:\n",
    "        print(f\"currently searching in {chromosome}\")\n",
    "        for item_test in test_database[chromosome]:\n",
    "            overlapping.append(check_presence(reference_database,item_test,chromosome))\n",
    "    return sum(overlapping),len(overlapping)\n",
    "\n"
   ]
  },
  {
   "cell_type": "code",
   "execution_count": 36,
   "metadata": {},
   "outputs": [],
   "source": [
    "def create__test_database(fileobj):\n",
    "    # takes the washu format file object and creates a database\n",
    "    database = []\n",
    "    for line in fileobj:\n",
    "        data = line.split(\"\\t\")\n",
    "        start = data[0].split(\",\")\n",
    "        end = data[1].split(\",\")\n",
    "        database.append(((start[0],int(start[1]),int(start[2])),(end[0],int(end[1]),int(end[2]))))\n",
    "    return database\n",
    "\n",
    "def create_database(fileobj):\n",
    "    # takes the washu format file object and creates a database\n",
    "    database = {}\n",
    "    for line in fileobj:\n",
    "        data = line.split(\"\\t\")\n",
    "        start = data[0].split(\",\")\n",
    "        end = data[1].split(\",\")\n",
    "        if start[0] != end[0]:\n",
    "            raise Exception(\"no\")\n",
    "        try:\n",
    "            database[start[0]].append(((int(start[1]),int(start[2])),(int(end[1]),int(end[2]))))\n",
    "        except KeyError:\n",
    "            database[start[0]] = []\n",
    "            database[start[0]].append(((int(start[1]),int(start[2])),(int(end[1]),int(end[2]))))\n",
    "    return database"
   ]
  },
  {
   "cell_type": "code",
   "execution_count": 51,
   "metadata": {},
   "outputs": [],
   "source": [
    "file1 = \"F:\\\\psa_functional_genomics\\\\HiChIP_test\\\\data\\\\hichipper_newsoft_peaks_no_pad_full\\\\mumbach_27ac.washu.new.txt\"\n",
    "file2 = \"F:\\\\psa_functional_genomics\\\\HiChIP_test\\\\data\\\\hichipper_newsoft_peaks_tech_no_pad\\\\NaiveT_27ac_B2_T1.washu.new.txt\"\n",
    "\n",
    "\n",
    "database1 = create_database(open(file1))\n",
    "database2 = create_database(open(file2))"
   ]
  },
  {
   "cell_type": "code",
   "execution_count": 52,
   "metadata": {},
   "outputs": [
    {
     "name": "stdout",
     "output_type": "stream",
     "text": [
      "currently searching in chr1\n",
      "currently searching in chr2\n",
      "currently searching in chr3\n",
      "currently searching in chr4\n",
      "currently searching in chr5\n",
      "currently searching in chr6\n",
      "currently searching in chr7\n",
      "currently searching in chr8\n",
      "currently searching in chr9\n",
      "currently searching in chr10\n",
      "currently searching in chr11\n",
      "currently searching in chr12\n",
      "currently searching in chr13\n",
      "currently searching in chr14\n",
      "currently searching in chr15\n",
      "currently searching in chr16\n",
      "currently searching in chr17\n",
      "currently searching in chr18\n",
      "currently searching in chr19\n",
      "currently searching in chr20\n",
      "currently searching in chr21\n",
      "currently searching in chr22\n",
      "Wall time: 12min 56s\n"
     ]
    },
    {
     "data": {
      "text/plain": [
       "(123890, 181697)"
      ]
     },
     "execution_count": 52,
     "metadata": {},
     "output_type": "execute_result"
    }
   ],
   "source": [
    "%%time\n",
    "calculate_overlap(database2,database1)"
   ]
  },
  {
   "cell_type": "code",
   "execution_count": 53,
   "metadata": {},
   "outputs": [],
   "source": [
    "file1 = \"F:\\\\psa_functional_genomics\\\\combined_hichip\\\\data\\\\hichipper_self\\\\mumbach_27ac.washu.new.txt\"\n",
    "file2 = \"F:\\\\psa_functional_genomics\\\\HiChIP_test\\\\data\\\\hichipper_self\\\\NaiveT_27ac_B2_T1.washu.new.txt\"\n",
    "\n",
    "\n",
    "database1 = create_database(open(file1))\n",
    "database2 = create_database(open(file2))"
   ]
  },
  {
   "cell_type": "code",
   "execution_count": 54,
   "metadata": {},
   "outputs": [
    {
     "name": "stdout",
     "output_type": "stream",
     "text": [
      "currently searching in chr1\n",
      "currently searching in chr2\n",
      "currently searching in chr3\n",
      "currently searching in chr4\n",
      "currently searching in chr5\n",
      "currently searching in chr6\n",
      "currently searching in chr7\n",
      "currently searching in chr8\n",
      "currently searching in chr9\n",
      "currently searching in chr10\n",
      "currently searching in chr11\n",
      "currently searching in chr12\n",
      "currently searching in chr13\n",
      "currently searching in chr14\n",
      "currently searching in chr15\n",
      "currently searching in chr16\n",
      "currently searching in chr17\n",
      "currently searching in chr18\n",
      "currently searching in chr19\n",
      "currently searching in chr20\n",
      "currently searching in chr21\n",
      "currently searching in chr22\n",
      "currently searching in chrX\n",
      "currently searching in chrY\n",
      "Wall time: 13min 41s\n"
     ]
    },
    {
     "data": {
      "text/plain": [
       "(89955, 275850)"
      ]
     },
     "execution_count": 54,
     "metadata": {},
     "output_type": "execute_result"
    }
   ],
   "source": [
    "%%time\n",
    "calculate_overlap(database2,database1)"
   ]
  },
  {
   "cell_type": "code",
   "execution_count": null,
   "metadata": {},
   "outputs": [],
   "source": []
  }
 ],
 "metadata": {
  "kernelspec": {
   "display_name": "Python 3",
   "language": "python",
   "name": "python3"
  },
  "language_info": {
   "codemirror_mode": {
    "name": "ipython",
    "version": 3
   },
   "file_extension": ".py",
   "mimetype": "text/x-python",
   "name": "python",
   "nbconvert_exporter": "python",
   "pygments_lexer": "ipython3",
   "version": "3.7.1"
  }
 },
 "nbformat": 4,
 "nbformat_minor": 2
}
