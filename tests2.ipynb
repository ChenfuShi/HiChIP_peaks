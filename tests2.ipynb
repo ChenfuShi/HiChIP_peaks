{
 "cells": [
  {
   "cell_type": "code",
   "execution_count": 1,
   "metadata": {},
   "outputs": [],
   "source": [
    "import scipy\n",
    "import scipy.sparse\n",
    "import numpy\n",
    "import os\n",
    "import re\n",
    "import multiprocessing\n",
    "import subprocess\n",
    "import pickle\n",
    "import matplotlib.pyplot\n",
    "import time\n",
    "import statistics\n",
    "import sklearn\n"
   ]
  },
  {
   "cell_type": "code",
   "execution_count": 2,
   "metadata": {},
   "outputs": [
    {
     "name": "stdout",
     "output_type": "stream",
     "text": [
      "total number of reads imported 204245296.0\n"
     ]
    }
   ],
   "source": [
    "# using full dataset\n",
    "CSR_mat_full = scipy.sparse.load_npz('./testdata/sparse_matrix_mumbach.npz')\n",
    "str(CSR_mat_full)\n",
    "print(\"total number of reads imported\", CSR_mat_full.sum()/2)"
   ]
  },
  {
   "cell_type": "code",
   "execution_count": 3,
   "metadata": {},
   "outputs": [
    {
     "name": "stdout",
     "output_type": "stream",
     "text": [
      "MATRIX sliced to get only chromosome 1\n",
      "total number of reads in chromosome 1 15886652.0\n",
      "matrix size (584662, 584662)\n"
     ]
    }
   ],
   "source": [
    "##############\n",
    "#thing to make it faster\n",
    "##############\n",
    "CSR_mat_full = CSR_mat_full[0:584662,0:584662]\n",
    "print(\"MATRIX sliced to get only chromosome 1\")\n",
    "print(\"total number of reads in chromosome 1\", CSR_mat_full.sum()/2)\n",
    "print(\"matrix size\", CSR_mat_full.shape)"
   ]
  },
  {
   "cell_type": "code",
   "execution_count": 5,
   "metadata": {},
   "outputs": [],
   "source": [
    "scipy.sparse.save_npz('./testdata/sparse_matrix_mumbach_chr1.npz',CSR_mat_full)"
   ]
  },
  {
   "cell_type": "code",
   "execution_count": 6,
   "metadata": {},
   "outputs": [],
   "source": [
    "#needed to load the variables\n",
    "with open(\"./testdata/variables.pi\",\"rb\") as picklefile:\n",
    "    frag_index,frag_prop,frag_amount,valid_chroms,chroms_offsets,distribution_nice_fragments = pickle.load(picklefile)\n"
   ]
  },
  {
   "cell_type": "code",
   "execution_count": 6,
   "metadata": {},
   "outputs": [
    {
     "data": {
      "text/plain": [
       "<matplotlib.collections.PathCollection at 0x214b9c16470>"
      ]
     },
     "execution_count": 6,
     "metadata": {},
     "output_type": "execute_result"
    }
   ],
   "source": [
    "%matplotlib qt\n",
    "matplotlib.pyplot.scatter(range(1000),distribution_nice_fragments)"
   ]
  },
  {
   "cell_type": "code",
   "execution_count": 14,
   "metadata": {},
   "outputs": [
    {
     "data": {
      "text/plain": [
       "1599232.0"
      ]
     },
     "execution_count": 14,
     "metadata": {},
     "output_type": "execute_result"
    }
   ],
   "source": [
    "CSR_mat_full.diagonal().sum()"
   ]
  },
  {
   "cell_type": "code",
   "execution_count": 7,
   "metadata": {},
   "outputs": [
    {
     "data": {
      "text/plain": [
       "[<matplotlib.lines.Line2D at 0x1cb4f16bf28>]"
      ]
     },
     "execution_count": 7,
     "metadata": {},
     "output_type": "execute_result"
    }
   ],
   "source": [
    "%matplotlib qt\n",
    "matplotlib.pyplot.plot(CSR_mat_full.diagonal())\n",
    "matplotlib.pyplot.plot(CSR_mat_full.diagonal(k=1).tolist())\n",
    "matplotlib.pyplot.plot(CSR_mat_full.diagonal(k=2).tolist())"
   ]
  },
  {
   "cell_type": "code",
   "execution_count": 18,
   "metadata": {},
   "outputs": [],
   "source": [
    "#preparing data for distribution plots\n",
    "distribution = [[] for i in range(10000)]\n",
    "diagonal=CSR_mat_full.diagonal(k=0).tolist()[1:]\n",
    "lengths=[]\n",
    "for i in frag_prop:\n",
    "    lengths.append(i[3])\n",
    "       \n",
    "for i in range(len(lengths)):\n",
    "    try:\n",
    "        distribution[lengths[i]].append(diagonal[i])\n",
    "    except:\n",
    "        continue\n",
    "\n",
    "results = []        \n",
    "for i in distribution:\n",
    "    if i:\n",
    "        results.append(statistics.mean(i))\n",
    "    else:\n",
    "        results.append(1000)\n",
    "        \n",
    "for i in range(len(lengths)):\n",
    "    try:\n",
    "        if diagonal[i] != 0:\n",
    "            distribution[lengths[i]].append(diagonal[i])\n",
    "    except:\n",
    "        continue        \n",
    "\n",
    "results2 = []        \n",
    "for i in distribution:\n",
    "    if i:\n",
    "        results2.append(statistics.mean(i))\n",
    "    else:\n",
    "        results2.append(1000)     "
   ]
  },
  {
   "cell_type": "code",
   "execution_count": 19,
   "metadata": {},
   "outputs": [],
   "source": [
    "#plotting avarage reads vs length\n",
    "%matplotlib qt\n",
    "fig, ax = matplotlib.pyplot.subplots()\n",
    "ax.scatter(range(10000),results)\n",
    "ax.scatter(range(10000),results2)\n",
    "fig.show()"
   ]
  },
  {
   "cell_type": "code",
   "execution_count": 10,
   "metadata": {},
   "outputs": [],
   "source": [
    "%matplotlib qt\n",
    "#scatter of lenght vs number of reads\n",
    "fig, ax = matplotlib.pyplot.subplots()\n",
    "lengths=[]\n",
    "for i in frag_prop:\n",
    "    lengths.append(i[3])\n",
    "ax.scatter(lengths[:584662],CSR_mat_full.diagonal().tolist()[:584662],alpha=0.01)\n",
    "ax.set_xlim((0, 5000))\n",
    "ax.set_ylim((0, 5000))\n",
    "fig.show()"
   ]
  },
  {
   "cell_type": "code",
   "execution_count": null,
   "metadata": {},
   "outputs": [],
   "source": []
  }
 ],
 "metadata": {
  "kernelspec": {
   "display_name": "Python 3",
   "language": "python",
   "name": "python3"
  },
  "language_info": {
   "codemirror_mode": {
    "name": "ipython",
    "version": 3
   },
   "file_extension": ".py",
   "mimetype": "text/x-python",
   "name": "python",
   "nbconvert_exporter": "python",
   "pygments_lexer": "ipython3",
   "version": "3.6.5"
  }
 },
 "nbformat": 4,
 "nbformat_minor": 2
}
