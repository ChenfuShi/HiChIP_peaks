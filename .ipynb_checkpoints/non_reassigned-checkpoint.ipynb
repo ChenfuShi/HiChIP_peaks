{
 "cells": [
  {
   "cell_type": "code",
   "execution_count": 7,
   "metadata": {},
   "outputs": [],
   "source": [
    "import scipy\n",
    "import scipy.sparse\n",
    "import numpy\n",
    "import os\n",
    "import re\n",
    "import multiprocessing\n",
    "import subprocess\n",
    "import pickle\n",
    "import matplotlib.pyplot\n",
    "import time\n",
    "import statistics\n",
    "import sklearn\n",
    "import math"
   ]
  },
  {
   "cell_type": "code",
   "execution_count": 2,
   "metadata": {},
   "outputs": [
    {
     "name": "stdout",
     "output_type": "stream",
     "text": [
      "total number of reads imported 204245328.0\n"
     ]
    }
   ],
   "source": [
    "# using full dataset\n",
    "CSR_mat_full = scipy.sparse.load_npz('./testdata/sparse_matrix_mumbach_non_reassigned.npz')\n",
    "str(CSR_mat_full)\n",
    "print(\"total number of reads imported\", CSR_mat_full.sum()/2)"
   ]
  },
  {
   "cell_type": "code",
   "execution_count": 3,
   "metadata": {},
   "outputs": [
    {
     "name": "stdout",
     "output_type": "stream",
     "text": [
      "MATRIX sliced to get only chromosome 1\n",
      "total number of reads in chromosome 1 15886652.0\n",
      "matrix size (584662, 584662)\n"
     ]
    }
   ],
   "source": [
    "##############\n",
    "#thing to make it faster\n",
    "##############\n",
    "CSR_mat_full = CSR_mat_full[0:584662,0:584662]\n",
    "print(\"MATRIX sliced to get only chromosome 1\")\n",
    "print(\"total number of reads in chromosome 1\", CSR_mat_full.sum()/2)\n",
    "print(\"matrix size\", CSR_mat_full.shape)"
   ]
  },
  {
   "cell_type": "code",
   "execution_count": 4,
   "metadata": {},
   "outputs": [],
   "source": [
    "scipy.sparse.save_npz('./testdata/sparse_matrix_mumbach_non_reassigned_chr1.npz',CSR_mat_full)"
   ]
  },
  {
   "cell_type": "code",
   "execution_count": 8,
   "metadata": {},
   "outputs": [],
   "source": [
    "CSR_mat_full = scipy.sparse.load_npz('./testdata/sparse_matrix_mumbach_non_reassigned_chr1.npz')\n"
   ]
  },
  {
   "cell_type": "code",
   "execution_count": 9,
   "metadata": {},
   "outputs": [],
   "source": [
    "#needed to load the variables\n",
    "with open(\"./testdata/variables.pi\",\"rb\") as picklefile:\n",
    "    frag_index,frag_prop,frag_amount,valid_chroms,chroms_offsets,distribution_nice_fragments = pickle.load(picklefile)\n"
   ]
  },
  {
   "cell_type": "code",
   "execution_count": 37,
   "metadata": {},
   "outputs": [],
   "source": [
    "RE_pairs=CSR_mat_full.diagonal()\n",
    "DE_SC_pairs=CSR_mat_full.diagonal(k=1)"
   ]
  },
  {
   "cell_type": "code",
   "execution_count": 38,
   "metadata": {},
   "outputs": [],
   "source": [
    "%matplotlib qt\n",
    "fig, ax = matplotlib.pyplot.subplots()\n",
    "ax.plot(RE_pairs)\n",
    "ax.plot(DE_SC_pairs)\n",
    "fig.show()"
   ]
  },
  {
   "cell_type": "code",
   "execution_count": 9,
   "metadata": {},
   "outputs": [
    {
     "data": {
      "text/plain": [
       "3636556.0"
      ]
     },
     "execution_count": 9,
     "metadata": {},
     "output_type": "execute_result"
    }
   ],
   "source": [
    "sum(RE_pairs)/2+sum(DE_SC_pairs)"
   ]
  },
  {
   "cell_type": "code",
   "execution_count": 15,
   "metadata": {},
   "outputs": [],
   "source": [
    "#preparing data for distribution plots\n",
    "distribution = [[] for i in range(4000)]\n",
    "diagonal_off1 = CSR_mat_full.diagonal(k=1).tolist()+[0]\n",
    "diagonal_off1f = [0] + CSR_mat_full.diagonal(k=1).tolist() \n",
    "diagonal=CSR_mat_full.diagonal(k=0).tolist()\n",
    "diagonal = [sum(x) for x in zip(diagonal_off1, diagonal_off1f,diagonal)]\n",
    "\n",
    "lengths=[0,0,0,0,0]\n",
    "for i in frag_prop:\n",
    "    lengths.append(i[3])\n",
    "       \n",
    "for i in range(len(lengths)):\n",
    "    try:\n",
    "        distribution[lengths[i]].append(diagonal[i])\n",
    "    except:\n",
    "        continue\n",
    "\n",
    "results = []        \n",
    "for i in distribution:\n",
    "    if i:\n",
    "        results.append(statistics.mean(i))\n",
    "    else:\n",
    "        results.append(1000)\n",
    "        \n",
    "for i in range(len(lengths)):\n",
    "    try:\n",
    "        if diagonal[i] != 0:\n",
    "            distribution[lengths[i]].append(diagonal[i])\n",
    "    except:\n",
    "        continue        \n",
    "\n",
    "results2 = []        \n",
    "for i in distribution:\n",
    "    if i:\n",
    "        results2.append(statistics.mean(i))\n",
    "    else:\n",
    "        results2.append(1000)     "
   ]
  },
  {
   "cell_type": "code",
   "execution_count": 16,
   "metadata": {},
   "outputs": [],
   "source": [
    "#plotting avarage reads vs length\n",
    "%matplotlib qt\n",
    "fig, ax = matplotlib.pyplot.subplots()\n",
    "ax.scatter(range(4000),results)\n",
    "ax.scatter(range(4000),results2)\n",
    "fig.show()"
   ]
  },
  {
   "cell_type": "code",
   "execution_count": 5,
   "metadata": {},
   "outputs": [],
   "source": [
    "def movingaverage (values, window):\n",
    "    weights = numpy.repeat(1.0, window)/window\n",
    "    sma = numpy.convolve(values, weights, 'full')\n",
    "    return sma\n",
    "def moving_integration (values, window):\n",
    "    weights = numpy.repeat(1.0, window)\n",
    "    sma = numpy.convolve(values, weights, 'full')\n",
    "    return sma"
   ]
  },
  {
   "cell_type": "code",
   "execution_count": 10,
   "metadata": {},
   "outputs": [
    {
     "ename": "NameError",
     "evalue": "name 'moving_integration' is not defined",
     "output_type": "error",
     "traceback": [
      "\u001b[1;31m---------------------------------------------------------------------------\u001b[0m",
      "\u001b[1;31mNameError\u001b[0m                                 Traceback (most recent call last)",
      "\u001b[1;32m<ipython-input-10-c70f31df5cad>\u001b[0m in \u001b[0;36m<module>\u001b[1;34m()\u001b[0m\n\u001b[0;32m      6\u001b[0m \u001b[0mdiagonal\u001b[0m \u001b[1;33m=\u001b[0m \u001b[1;33m[\u001b[0m\u001b[0msum\u001b[0m\u001b[1;33m(\u001b[0m\u001b[0mx\u001b[0m\u001b[1;33m)\u001b[0m \u001b[1;32mfor\u001b[0m \u001b[0mx\u001b[0m \u001b[1;32min\u001b[0m \u001b[0mzip\u001b[0m\u001b[1;33m(\u001b[0m\u001b[0mdiagonal_off1\u001b[0m\u001b[1;33m,\u001b[0m \u001b[0mdiagonal_off1f\u001b[0m\u001b[1;33m,\u001b[0m\u001b[0mdiagonal\u001b[0m\u001b[1;33m)\u001b[0m\u001b[1;33m]\u001b[0m\u001b[1;33m\u001b[0m\u001b[0m\n\u001b[0;32m      7\u001b[0m \u001b[0mwindow\u001b[0m\u001b[1;33m=\u001b[0m\u001b[1;36m5\u001b[0m\u001b[1;33m\u001b[0m\u001b[0m\n\u001b[1;32m----> 8\u001b[1;33m \u001b[0mdiagonal\u001b[0m \u001b[1;33m=\u001b[0m \u001b[0mmoving_integration\u001b[0m\u001b[1;33m(\u001b[0m\u001b[0mdiagonal\u001b[0m\u001b[1;33m,\u001b[0m\u001b[0mwindow\u001b[0m\u001b[1;33m)\u001b[0m\u001b[1;33m\u001b[0m\u001b[0m\n\u001b[0m\u001b[0;32m      9\u001b[0m \u001b[0mlengths\u001b[0m \u001b[1;33m=\u001b[0m \u001b[1;33m[\u001b[0m\u001b[1;33m]\u001b[0m\u001b[1;33m\u001b[0m\u001b[0m\n\u001b[0;32m     10\u001b[0m \u001b[1;32mfor\u001b[0m \u001b[0mi\u001b[0m \u001b[1;32min\u001b[0m \u001b[0mfrag_prop\u001b[0m\u001b[1;33m:\u001b[0m\u001b[1;33m\u001b[0m\u001b[0m\n",
      "\u001b[1;31mNameError\u001b[0m: name 'moving_integration' is not defined"
     ]
    }
   ],
   "source": [
    "#preparing data for distribution plots\n",
    "distribution = [[] for i in range(6000)]\n",
    "diagonal=CSR_mat_full.diagonal(k=0).tolist()\n",
    "diagonal_off1 = CSR_mat_full.diagonal(k=1).tolist()+[0]\n",
    "diagonal_off1f = [0] + CSR_mat_full.diagonal(k=1).tolist() \n",
    "diagonal = [sum(x) for x in zip(diagonal_off1, diagonal_off1f,diagonal)]\n",
    "window=5\n",
    "diagonal = moving_integration(diagonal,window)\n",
    "lengths = []\n",
    "for i in frag_prop:\n",
    "    lengths.append(i[3])\n",
    "       \n",
    "lengths = moving_integration(lengths,window).tolist()\n",
    "lengths = list(map(int, lengths))\n",
    "for i in range(len(lengths)):\n",
    "    try:\n",
    "        distribution[lengths[i]].append(diagonal[i])\n",
    "    except:\n",
    "        continue\n",
    "\n",
    "results = []        \n",
    "for i in distribution:\n",
    "    if i:\n",
    "        results.append(statistics.mean(i))\n",
    "    else:\n",
    "        results.append(1000)\n",
    "        \n",
    "for i in range(len(lengths)):\n",
    "    try:\n",
    "        if diagonal[i] != 0:\n",
    "            distribution[lengths[i]].append(diagonal[i])\n",
    "    except:\n",
    "        continue        \n",
    "\n",
    "results2 = []        \n",
    "for i in distribution:\n",
    "    if i:\n",
    "        results2.append(statistics.mean(i))\n",
    "    else:\n",
    "        results2.append(1000)   "
   ]
  },
  {
   "cell_type": "code",
   "execution_count": 8,
   "metadata": {},
   "outputs": [],
   "source": [
    "#plotting avarage reads vs length\n",
    "%matplotlib qt\n",
    "fig, ax = matplotlib.pyplot.subplots()\n",
    "ax.scatter(range(6000),results)\n",
    "ax.scatter(range(6000),results2)\n",
    "fig.show()"
   ]
  },
  {
   "cell_type": "code",
   "execution_count": 31,
   "metadata": {},
   "outputs": [],
   "source": [
    "%matplotlib qt\n",
    "fig, ax = matplotlib.pyplot.subplots()\n",
    "ax.hist(lengths,range=(0,6000),bins=100)\n",
    "fig.show()"
   ]
  },
  {
   "cell_type": "code",
   "execution_count": 6,
   "metadata": {},
   "outputs": [],
   "source": [
    "%matplotlib qt\n",
    "fig, ax = matplotlib.pyplot.subplots()\n",
    "res= numpy.percentile(diagonal,95)\n",
    "ax.plot(diagonal)\n",
    "ax.axhline(res)\n",
    "ax.plot(CSR_mat_full.sum(axis=0).tolist()[0])\n",
    "fig.show()"
   ]
  },
  {
   "cell_type": "code",
   "execution_count": 12,
   "metadata": {},
   "outputs": [
    {
     "data": {
      "text/plain": [
       "[<matplotlib.lines.Line2D at 0x1365f9decc0>]"
      ]
     },
     "execution_count": 12,
     "metadata": {},
     "output_type": "execute_result"
    }
   ],
   "source": [
    "%matplotlib qt\n",
    "#dirt way to do the lorentz curve on the fragments\n",
    "fig = matplotlib.pyplot.figure()\n",
    "ax = fig.add_subplot(111)\n",
    "ax.plot(numpy.array(sorted(diagonal)).cumsum()/numpy.array(diagonal).sum())\n",
    "ax.plot(numpy.array(sorted(CSR_mat_full.sum(axis=0).tolist()[0])).cumsum()/CSR_mat_full.sum(),label=\"full\")"
   ]
  },
  {
   "cell_type": "code",
   "execution_count": null,
   "metadata": {},
   "outputs": [],
   "source": []
  }
 ],
 "metadata": {
  "kernelspec": {
   "display_name": "Python 3",
   "language": "python",
   "name": "python3"
  },
  "language_info": {
   "codemirror_mode": {
    "name": "ipython",
    "version": 3
   },
   "file_extension": ".py",
   "mimetype": "text/x-python",
   "name": "python",
   "nbconvert_exporter": "python",
   "pygments_lexer": "ipython3",
   "version": "3.6.5"
  }
 },
 "nbformat": 4,
 "nbformat_minor": 2
}
