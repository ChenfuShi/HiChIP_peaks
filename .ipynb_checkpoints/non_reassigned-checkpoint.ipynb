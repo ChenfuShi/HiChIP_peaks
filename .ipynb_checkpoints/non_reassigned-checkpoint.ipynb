{
 "cells": [
  {
   "cell_type": "code",
   "execution_count": 1,
   "metadata": {},
   "outputs": [],
   "source": [
    "import scipy\n",
    "import scipy.sparse\n",
    "import numpy\n",
    "import os\n",
    "import re\n",
    "import multiprocessing\n",
    "import subprocess\n",
    "import pickle\n",
    "import matplotlib.pyplot\n",
    "import time\n",
    "import statistics\n",
    "import sklearn\n",
    "import math"
   ]
  },
  {
   "cell_type": "code",
   "execution_count": 2,
   "metadata": {},
   "outputs": [
    {
     "name": "stdout",
     "output_type": "stream",
     "text": [
      "total number of reads imported 204245328.0\n"
     ]
    }
   ],
   "source": [
    "# using full dataset\n",
    "CSR_mat_full = scipy.sparse.load_npz('./testdata/sparse_matrix_mumbach_non_reassigned.npz')\n",
    "str(CSR_mat_full)\n",
    "print(\"total number of reads imported\", CSR_mat_full.sum()/2)"
   ]
  },
  {
   "cell_type": "code",
   "execution_count": 3,
   "metadata": {},
   "outputs": [
    {
     "name": "stdout",
     "output_type": "stream",
     "text": [
      "MATRIX sliced to get only chromosome 1\n",
      "total number of reads in chromosome 1 15886652.0\n",
      "matrix size (584662, 584662)\n"
     ]
    }
   ],
   "source": [
    "##############\n",
    "#thing to make it faster\n",
    "##############\n",
    "CSR_mat_full = CSR_mat_full[0:584662,0:584662]\n",
    "print(\"MATRIX sliced to get only chromosome 1\")\n",
    "print(\"total number of reads in chromosome 1\", CSR_mat_full.sum()/2)\n",
    "print(\"matrix size\", CSR_mat_full.shape)"
   ]
  },
  {
   "cell_type": "code",
   "execution_count": 4,
   "metadata": {},
   "outputs": [],
   "source": [
    "scipy.sparse.save_npz('./testdata/sparse_matrix_mumbach_non_reassigned_chr1.npz',CSR_mat_full)"
   ]
  },
  {
   "cell_type": "code",
   "execution_count": null,
   "metadata": {},
   "outputs": [],
   "source": [
    "CSR_mat_full = scipy.sparse.load_npz('./testdata/sparse_matrix_mumbach_non_reassigned_chr1.npz')"
   ]
  },
  {
   "cell_type": "code",
   "execution_count": null,
   "metadata": {},
   "outputs": [],
   "source": []
  },
  {
   "cell_type": "code",
   "execution_count": 5,
   "metadata": {},
   "outputs": [],
   "source": [
    "RE_pairs=CSR_mat_full.diagonal()\n",
    "DE_SC_pairs=CSR_mat_full.diagonal(k=1)"
   ]
  },
  {
   "cell_type": "code",
   "execution_count": 7,
   "metadata": {},
   "outputs": [],
   "source": [
    "%matplotlib qt\n",
    "fig, ax = matplotlib.pyplot.subplots()\n",
    "ax.plot(RE_pairs)\n",
    "ax.plot(DE_SC_pairs)\n",
    "fig.show()"
   ]
  },
  {
   "cell_type": "code",
   "execution_count": 9,
   "metadata": {},
   "outputs": [
    {
     "data": {
      "text/plain": [
       "3636556.0"
      ]
     },
     "execution_count": 9,
     "metadata": {},
     "output_type": "execute_result"
    }
   ],
   "source": [
    "sum(RE_pairs)/2+sum(DE_SC_pairs)"
   ]
  },
  {
   "cell_type": "code",
   "execution_count": null,
   "metadata": {},
   "outputs": [],
   "source": []
  }
 ],
 "metadata": {
  "kernelspec": {
   "display_name": "Python 3",
   "language": "python",
   "name": "python3"
  },
  "language_info": {
   "codemirror_mode": {
    "name": "ipython",
    "version": 3
   },
   "file_extension": ".py",
   "mimetype": "text/x-python",
   "name": "python",
   "nbconvert_exporter": "python",
   "pygments_lexer": "ipython3",
   "version": "3.6.5"
  }
 },
 "nbformat": 4,
 "nbformat_minor": 2
}
