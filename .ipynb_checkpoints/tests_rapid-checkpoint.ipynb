{
 "cells": [
  {
   "cell_type": "code",
   "execution_count": 1,
   "metadata": {},
   "outputs": [],
   "source": [
    "import scipy\n",
    "import scipy.sparse, scipy.stats\n",
    "import numpy\n",
    "import os\n",
    "import re\n",
    "import multiprocessing\n",
    "import subprocess\n",
    "import pickle\n",
    "import matplotlib.pyplot\n",
    "import time\n",
    "import statistics\n",
    "import sklearn\n",
    "import statsmodels\n",
    "import itertools"
   ]
  },
  {
   "cell_type": "code",
   "execution_count": 2,
   "metadata": {},
   "outputs": [],
   "source": [
    "def moving_integration (values, window):\n",
    "    weights = numpy.repeat(1.0, window)\n",
    "    sma = numpy.convolve(values, weights, 'same')\n",
    "    return sma\n",
    "def moving_average (values, window):\n",
    "    weights = numpy.repeat(1.0, window)/window\n",
    "    sma = numpy.convolve(values, weights, 'same')\n",
    "    return sma"
   ]
  },
  {
   "cell_type": "code",
   "execution_count": 3,
   "metadata": {},
   "outputs": [],
   "source": [
    "with open(\"./testdata/peaks_tests.pi\" ,\"rb\") as picklein:\n",
    "    smoothed_diagonal,quick_peaks = pickle.load(picklein)"
   ]
  },
  {
   "cell_type": "code",
   "execution_count": 4,
   "metadata": {},
   "outputs": [],
   "source": [
    "#needed to load the variables\n",
    "with open(\"./testdata/variables.pi\",\"rb\") as picklefile:\n",
    "    frag_index,frag_prop,frag_amount,valid_chroms,chroms_offsets = pickle.load(picklefile)"
   ]
  },
  {
   "cell_type": "code",
   "execution_count": 5,
   "metadata": {},
   "outputs": [
    {
     "name": "stdout",
     "output_type": "stream",
     "text": [
      "60176\n",
      "584662\n"
     ]
    }
   ],
   "source": [
    "print(sum([1 if x else 0 for x in quick_peaks]))\n",
    "print(frag_amount[\"chr1\"])"
   ]
  },
  {
   "cell_type": "code",
   "execution_count": 6,
   "metadata": {},
   "outputs": [
    {
     "name": "stdout",
     "output_type": "stream",
     "text": [
      "63931.25\n"
     ]
    }
   ],
   "source": [
    "import re\n",
    "print(len(re.findall(r'(0+|1+)',\"\".join([\"1\" if x else \"0\" for x in quick_peaks])))/0.16)"
   ]
  },
  {
   "cell_type": "code",
   "execution_count": 10,
   "metadata": {},
   "outputs": [],
   "source": [
    "%matplotlib qt\n",
    "fig, ax = matplotlib.pyplot.subplots()\n",
    "ax.hist(smoothed_diagonal,range=(0,500), bins=500)\n",
    "fig.show()"
   ]
  },
  {
   "cell_type": "code",
   "execution_count": 6,
   "metadata": {},
   "outputs": [],
   "source": [
    "%matplotlib qt\n",
    "fig, ax = matplotlib.pyplot.subplots()\n",
    "ax.hist(list(itertools.compress(smoothed_diagonal, [not i for i in quick_peaks])),range=(0,500), bins=500)\n",
    "ax.hist(scipy.stats.poisson.rvs(numpy.mean(smoothed_diagonal), size = 100000),range=(0,500), bins=500)\n",
    "ax.hist(scipy.stats.poisson.rvs(10, size = 200000),range=(0,500), bins=500)\n",
    "fig.show()"
   ]
  },
  {
   "cell_type": "code",
   "execution_count": 7,
   "metadata": {},
   "outputs": [],
   "source": [
    "%matplotlib qt\n",
    "fig, ax = matplotlib.pyplot.subplots()\n",
    "ax.hist(list(itertools.compress(smoothed_diagonal, [not i for i in quick_peaks])),range=(0,500), bins=500)\n",
    "#ax.hist(scipy.stats.binom.rvs(numpy.mean(smoothed_diagonal), size = 100000),range=(0,500), bins=500)\n",
    "ax.hist(scipy.stats.binom.rvs(80,0.5, size = 200000),range=(0,500), bins=500)\n",
    "fig.show()"
   ]
  },
  {
   "cell_type": "code",
   "execution_count": 6,
   "metadata": {},
   "outputs": [],
   "source": [
    "lengths = [x[3] for x in frag_prop][1:584663]\n",
    "lengths = moving_integration(lengths, 4)\n",
    "compress_lengths = list(itertools.compress(lengths, [not i for i in quick_peaks]))\n",
    "compress_diagonal = list(itertools.compress(smoothed_diagonal, [not i for i in quick_peaks]))\n"
   ]
  },
  {
   "cell_type": "code",
   "execution_count": 17,
   "metadata": {},
   "outputs": [
    {
     "name": "stderr",
     "output_type": "stream",
     "text": [
      "C:\\Users\\MDEFSCS4\\Anaconda3\\lib\\site-packages\\matplotlib\\backends\\qt_editor\\figureoptions.py:195: UserWarning: Attempted to set non-positive left xlim on a log-scaled axis.\n",
      "Invalid limit will be ignored.\n",
      "  axes.set_xlim(xmin, xmax)\n",
      "C:\\Users\\MDEFSCS4\\Anaconda3\\lib\\site-packages\\matplotlib\\backends\\qt_editor\\figureoptions.py:197: UserWarning: Attempted to set non-positive bottom ylim on a log-scaled axis.\n",
      "Invalid limit will be ignored.\n",
      "  axes.set_ylim(ymin, ymax)\n",
      "C:\\Users\\MDEFSCS4\\Anaconda3\\lib\\site-packages\\matplotlib\\transforms.py:2703: RuntimeWarning: divide by zero encountered in double_scalars\n",
      "  x_scale = 1.0 / inw\n",
      "C:\\Users\\MDEFSCS4\\Anaconda3\\lib\\site-packages\\matplotlib\\transforms.py:2704: RuntimeWarning: divide by zero encountered in double_scalars\n",
      "  y_scale = 1.0 / inh\n",
      "C:\\Users\\MDEFSCS4\\Anaconda3\\lib\\site-packages\\matplotlib\\ticker.py:2456: RuntimeWarning: invalid value encountered in log10\n",
      "  vmin = np.log10(vmin / (1 - vmin))\n",
      "C:\\Users\\MDEFSCS4\\Anaconda3\\lib\\site-packages\\matplotlib\\ticker.py:2457: RuntimeWarning: invalid value encountered in log10\n",
      "  vmax = np.log10(vmax / (1 - vmax))\n"
     ]
    }
   ],
   "source": [
    "%matplotlib qt\n",
    "fig, ax = matplotlib.pyplot.subplots()\n",
    "\n",
    "ax.hist2d(compress_lengths,compress_diagonal,(500,100),range=((0,2000),(0,100)),cmap=matplotlib.pyplot.cm.jet,cmax=70)\n",
    "\n",
    "fig.show()"
   ]
  },
  {
   "cell_type": "code",
   "execution_count": 12,
   "metadata": {},
   "outputs": [
    {
     "data": {
      "text/plain": [
       "array([1., 2., 2., 2., 6., 6., 2., 2., 2.])"
      ]
     },
     "execution_count": 12,
     "metadata": {},
     "output_type": "execute_result"
    }
   ],
   "source": [
    "a = [1,1,1,5,1,1]\n",
    "b = [|1,1,6,1,1|,1]\n",
    "moving_integration(a,2)"
   ]
  },
  {
   "cell_type": "code",
   "execution_count": null,
   "metadata": {},
   "outputs": [],
   "source": []
  }
 ],
 "metadata": {
  "kernelspec": {
   "display_name": "Python 3",
   "language": "python",
   "name": "python3"
  },
  "language_info": {
   "codemirror_mode": {
    "name": "ipython",
    "version": 3
   },
   "file_extension": ".py",
   "mimetype": "text/x-python",
   "name": "python",
   "nbconvert_exporter": "python",
   "pygments_lexer": "ipython3",
   "version": "3.7.1"
  }
 },
 "nbformat": 4,
 "nbformat_minor": 2
}
