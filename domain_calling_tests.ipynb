{
 "cells": [
  {
   "cell_type": "code",
   "execution_count": 3,
   "metadata": {},
   "outputs": [],
   "source": [
    "import scipy\n",
    "import scipy.sparse, scipy.stats\n",
    "import numpy\n",
    "import os\n",
    "import re\n",
    "import multiprocessing\n",
    "import subprocess\n",
    "import pickle\n",
    "import matplotlib.pyplot\n",
    "import time\n",
    "import statistics\n",
    "import sklearn\n",
    "import statsmodels , statsmodels.api\n",
    "import itertools"
   ]
  },
  {
   "cell_type": "code",
   "execution_count": 4,
   "metadata": {},
   "outputs": [],
   "source": [
    "def moving_integration (values, window):\n",
    "    weights = numpy.repeat(1.0, window)\n",
    "    sma = numpy.convolve(values, weights, 'same')\n",
    "    return sma\n",
    "def moving_average (values, window):\n",
    "    weights = numpy.repeat(1.0, window)/window\n",
    "    sma = numpy.convolve(values, weights, 'same')\n",
    "    return sma"
   ]
  },
  {
   "cell_type": "code",
   "execution_count": 5,
   "metadata": {},
   "outputs": [],
   "source": [
    "#needed to load the variables\n",
    "with open(\"./testdata/variables.pi\",\"rb\") as picklefile:\n",
    "    frag_index,frag_prop,frag_amount,valid_chroms,chroms_offsets = pickle.load(picklefile)"
   ]
  },
  {
   "cell_type": "code",
   "execution_count": 6,
   "metadata": {},
   "outputs": [],
   "source": [
    "with open(\"./testdata/peaks_chr1_mumbach.pi\" ,\"rb\") as picklein:\n",
    "    smoothed_diagonal,refined_peaks = pickle.load(picklein)"
   ]
  },
  {
   "cell_type": "code",
   "execution_count": 7,
   "metadata": {},
   "outputs": [],
   "source": [
    "CSR_mat_full = scipy.sparse.load_npz('./testdata/sparse_matrix_mumbach_non_reassigned_chr1.npz')"
   ]
  },
  {
   "cell_type": "code",
   "execution_count": null,
   "metadata": {},
   "outputs": [],
   "source": []
  },
  {
   "cell_type": "code",
   "execution_count": 8,
   "metadata": {},
   "outputs": [
    {
     "name": "stdout",
     "output_type": "stream",
     "text": [
      "3158\n"
     ]
    }
   ],
   "source": [
    "#return list of tuples with start and end indexes for peaks. optionally filter by things larger than something\n",
    "\n",
    "peaks=[]\n",
    "\n",
    "i = 0\n",
    "while i < len(refined_peaks):\n",
    "    if refined_peaks[i] == 1:\n",
    "        start = i\n",
    "        while refined_peaks[i] == 1:\n",
    "            i=i+1\n",
    "        end = i\n",
    "        peaks.append((start,end))\n",
    "    i=i+1\n",
    "\n",
    "print(len(peaks))\n",
    "\n"
   ]
  },
  {
   "cell_type": "code",
   "execution_count": null,
   "metadata": {},
   "outputs": [],
   "source": [
    "#interactive visualization of peaks viewpoints\n",
    "%matplotlib qt\n",
    "from ipywidgets import *\n",
    "fig = matplotlib.pyplot.figure()\n",
    "ax = fig.add_subplot(111)\n",
    "matplotlib.pyplot.ion()\n",
    "def interactplot(i):\n",
    "    ax.clear()\n",
    "    chip=smoothed_diagonal[peaks[i][0]-1500:peaks[i][1]+1500]\n",
    "    bait=moving_integration(CSR_mat_full[peaks[i][0]:peaks[i][1],].toarray().sum(axis=0).tolist()[peaks[i][0]-1500:peaks[i][1]+1500],3)\n",
    "    ax.plot(chip)\n",
    "    ax.plot(bait)\n",
    "    fig.canvas.draw()\n",
    "    \n",
    "    ratio = []\n",
    "    for x, y in zip(bait, chip):\n",
    "        ratio.append(x*100/(y+10))\n",
    "    ax.plot(moving_integration(ratio,20))\n",
    "    \n",
    "    print(frag_prop[peaks[i][0]])\n",
    "    print(frag_prop[peaks[i][0]-1500])\n",
    "    print(frag_prop[peaks[i][1]+1500])\n",
    "interact(interactplot,i=widgets.IntSlider(min=1,max=len(peaks)-1,step=1,value=1));"
   ]
  },
  {
   "cell_type": "code",
   "execution_count": 92,
   "metadata": {},
   "outputs": [],
   "source": [
    "distance_data=[]\n",
    "chip_i=[]\n",
    "chip_k=[]\n",
    "interactions=[]\n",
    "\n",
    "for i in range(len(peaks)):\n",
    "    for k in range(len(peaks)):\n",
    "        a,b,c,d = peaks[i][0],peaks[i][1],peaks[k][0],peaks[k][1]\n",
    "        distance = frag_prop[d][1]-frag_prop[a][2]\n",
    "        if distance < 500000 and distance > 40000:        \n",
    "            interactions.append(CSR_mat_full[a:b,c:d].sum())\n",
    "            chip_i.append(smoothed_diagonal[a:b].sum())\n",
    "            chip_k.append(smoothed_diagonal[c:d].sum())\n",
    "            distance_data.append(distance)"
   ]
  },
  {
   "cell_type": "code",
   "execution_count": 10,
   "metadata": {},
   "outputs": [],
   "source": [
    "%matplotlib qt\n",
    "from mpl_toolkits.mplot3d import Axes3D\n",
    "fig = matplotlib.pyplot.figure(figsize=(15, 10), dpi=96)\n",
    "ax = fig.add_subplot(111, projection='3d')\n",
    "\n",
    "\n",
    "\n",
    "from matplotlib.animation import FuncAnimation, PillowWriter\n",
    "\n",
    "def init():\n",
    "    ax.scatter(distance_data,interactions,[a+b for a,b in zip(chip_i,chip_k)])\n",
    "    ax.set_zlim3d((0,10000))\n",
    "    ax.set_ylim3d((0,40))\n",
    "    ax.set_xlim3d((0,350000))\n",
    "    return fig,\n",
    "\n",
    "def animate(i):\n",
    "    ax.view_init(elev=1., azim=10*i)\n",
    "    return fig,\n",
    "\n",
    "# Animate\n",
    "\n",
    "\n",
    "\n",
    "\n",
    "anim = FuncAnimation(fig, animate, init_func=init,\n",
    "                               frames=36, interval=200)\n",
    "\n",
    "anim.save(\"testdata/animations/additive_chip_on_z.gif\", writer=PillowWriter(fps=5))\n",
    "    "
   ]
  },
  {
   "cell_type": "code",
   "execution_count": 28,
   "metadata": {},
   "outputs": [],
   "source": [
    "%matplotlib qt\n",
    "from mpl_toolkits.mplot3d import Axes3D\n",
    "fig = matplotlib.pyplot.figure(figsize=(15, 10), dpi=96)\n",
    "ax = fig.add_subplot(111, projection='3d')\n",
    "\n",
    "\n",
    "\n",
    "from matplotlib.animation import FuncAnimation, PillowWriter\n",
    "\n",
    "def init():\n",
    "    ax.scatter(distance_data,interactions,[a*b for a,b in zip(chip_i,chip_k)])\n",
    "    ax.set_zlim3d((0,4000000))\n",
    "    ax.set_ylim3d((0,40))\n",
    "    ax.set_xlim3d((0,350000))\n",
    "    return fig,\n",
    "\n",
    "def animate(i):\n",
    "    ax.view_init(elev=1., azim=10*i)\n",
    "    return fig,\n",
    "\n",
    "# Animate\n",
    "\n",
    "\n",
    "\n",
    "\n",
    "anim = FuncAnimation(fig, animate, init_func=init,\n",
    "                               frames=36, interval=200)\n",
    "\n",
    "anim.save(\"testdata/animations/multiplicative_chip_on_z.gif\", writer=PillowWriter(fps=5))\n",
    "    "
   ]
  },
  {
   "cell_type": "code",
   "execution_count": null,
   "metadata": {},
   "outputs": [],
   "source": []
  },
  {
   "cell_type": "code",
   "execution_count": 86,
   "metadata": {},
   "outputs": [],
   "source": [
    "fig = matplotlib.pyplot.figure(figsize=(15, 10), dpi=96)\n",
    "ax = fig.add_subplot(111)\n",
    "\n",
    "sc = ax.scatter([a*b for a,b in zip(chip_i,chip_k)],interactions,c=distance_data, cmap=\"RdYlBu\", alpha = 1,s = 5,vmin=0, vmax=500000)\n",
    "matplotlib.pyplot.colorbar(sc)\n",
    "    \n",
    "    \n",
    "fig.show()"
   ]
  },
  {
   "cell_type": "code",
   "execution_count": 41,
   "metadata": {},
   "outputs": [
    {
     "ename": "AttributeError",
     "evalue": "'numpy.ndarray' object has no attribute 'median'",
     "output_type": "error",
     "traceback": [
      "\u001b[1;31m---------------------------------------------------------------------------\u001b[0m",
      "\u001b[1;31mAttributeError\u001b[0m                            Traceback (most recent call last)",
      "\u001b[1;32m<ipython-input-41-ca8e6ec8126d>\u001b[0m in \u001b[0;36m<module>\u001b[1;34m\u001b[0m\n\u001b[1;32m----> 1\u001b[1;33m \u001b[0mnumpy\u001b[0m\u001b[1;33m.\u001b[0m\u001b[0marray\u001b[0m\u001b[1;33m(\u001b[0m\u001b[0minteractions\u001b[0m\u001b[1;33m)\u001b[0m\u001b[1;33m.\u001b[0m\u001b[0mmedian\u001b[0m\u001b[1;33m(\u001b[0m\u001b[1;33m)\u001b[0m\u001b[1;33m\u001b[0m\u001b[1;33m\u001b[0m\u001b[0m\n\u001b[0m",
      "\u001b[1;31mAttributeError\u001b[0m: 'numpy.ndarray' object has no attribute 'median'"
     ]
    }
   ],
   "source": []
  },
  {
   "cell_type": "code",
   "execution_count": 52,
   "metadata": {},
   "outputs": [],
   "source": [
    "fig = matplotlib.pyplot.figure(figsize=(15, 10), dpi=96)\n",
    "ax = fig.add_subplot(111)\n",
    "\n",
    "sc = ax.scatter(distance_data,[a*b for a,b in zip(chip_i,chip_k)],c=interactions, cmap=\"inferno\", alpha = 1,s = 5,vmin=0, vmax=200)\n",
    "matplotlib.pyplot.colorbar(sc)\n",
    "matplotlib.pyplot.yscale(\"log\")    \n",
    "    \n",
    "fig.show()"
   ]
  },
  {
   "cell_type": "code",
   "execution_count": 56,
   "metadata": {},
   "outputs": [],
   "source": [
    "fig = matplotlib.pyplot.figure(figsize=(15, 10), dpi=96)\n",
    "ax = fig.add_subplot(111)\n",
    "\n",
    "sc = ax.scatter([a*b for a,b in zip(chip_i,chip_k)],interactions,alpha=0.05)\n",
    "   \n",
    "    \n",
    "fig.show()"
   ]
  },
  {
   "cell_type": "code",
   "execution_count": 65,
   "metadata": {},
   "outputs": [],
   "source": [
    "x=[a+b for a,b in zip(chip_i,chip_k)]\n",
    "y = statsmodels.api.nonparametric.lowess(interactions, x,return_sorted=False,frac=0.2,delta=100)\n",
    "%matplotlib qt\n",
    "fig, ax = matplotlib.pyplot.subplots()\n",
    "ax.scatter(x,y)\n",
    "fig.show()"
   ]
  },
  {
   "cell_type": "code",
   "execution_count": 93,
   "metadata": {},
   "outputs": [],
   "source": [
    "x=[a*b for a,b in zip(chip_i,chip_k)]\n",
    "y = statsmodels.api.nonparametric.lowess(interactions, x,return_sorted=False,frac=0.2,delta=10000)\n",
    "%matplotlib qt\n",
    "fig, ax = matplotlib.pyplot.subplots()\n",
    "ax.scatter(x,y)\n",
    "fig.show()\n",
    "\n",
    "interactions_folds = [a/b for a,b in zip(interactions,y)]\n",
    "\n",
    "#seems that this is very good"
   ]
  },
  {
   "cell_type": "code",
   "execution_count": 96,
   "metadata": {},
   "outputs": [],
   "source": [
    "x=distance_data\n",
    "y = statsmodels.api.nonparametric.lowess(interactions_folds, x,return_sorted=False,frac=0.2,delta=1000)\n",
    "%matplotlib qt\n",
    "fig, ax = matplotlib.pyplot.subplots()\n",
    "ax.scatter(x,y)\n",
    "fig.show()\n",
    "\n",
    "interactions_folds_distance = [a/b for a,b in zip(interactions_folds,y)]\n"
   ]
  },
  {
   "cell_type": "code",
   "execution_count": 98,
   "metadata": {},
   "outputs": [],
   "source": [
    "fig, ax = matplotlib.pyplot.subplots()\n",
    "ax.plot(interactions_folds_distance[50000:100000])\n",
    "ax.plot([i/1000 for i in chip_i[50000:100000]])\n",
    "fig.show()"
   ]
  },
  {
   "cell_type": "code",
   "execution_count": null,
   "metadata": {},
   "outputs": [],
   "source": []
  }
 ],
 "metadata": {
  "kernelspec": {
   "display_name": "Python 3",
   "language": "python",
   "name": "python3"
  },
  "language_info": {
   "codemirror_mode": {
    "name": "ipython",
    "version": 3
   },
   "file_extension": ".py",
   "mimetype": "text/x-python",
   "name": "python",
   "nbconvert_exporter": "python",
   "pygments_lexer": "ipython3",
   "version": "3.7.1"
  }
 },
 "nbformat": 4,
 "nbformat_minor": 2
}
